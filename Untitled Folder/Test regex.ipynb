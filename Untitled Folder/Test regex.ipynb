{
 "cells": [
  {
   "cell_type": "code",
   "execution_count": 1,
   "id": "6f75aa94",
   "metadata": {},
   "outputs": [],
   "source": [
    "import pandas as pd\n",
    "import re"
   ]
  },
  {
   "cell_type": "code",
   "execution_count": 2,
   "id": "c95ae78b",
   "metadata": {},
   "outputs": [],
   "source": [
    "def test(pattern, matches, skips):\n",
    "    count = 0\n",
    "    \n",
    "    for m in matches:\n",
    "        if re.fullmatch(pattern, m):\n",
    "            count +=1\n",
    "            print( \"\\\"\"+m+\"\\\"\",\" is matched successfully!\")\n",
    "        else:\n",
    "            print ('Failed to match ',\"\\\"\"+m+\"\\\"\")\n",
    "    for s in skips:\n",
    "        if not re.fullmatch(pattern, s):\n",
    "            count += 1\n",
    "            print( \"\\\"\"+s+\"\\\"\",\" is skipped successfully!\")\n",
    "        else:\n",
    "            print('Failed to skip ', \"\\\"\"+s+\"\\\"\")\n",
    "    print()\n",
    "    if count == len(matches)+len(skips):\n",
    "        print(\"Your defined pattern has fulfilled all requirements.\")\n",
    "    else:\n",
    "        print(\"Your defined pattern has fulfilled\",count, \"out of\", len(matches)+len(skips), \"requirements.\")\n",
    "\n"
   ]
  },
  {
   "cell_type": "code",
   "execution_count": 3,
   "id": "4a325036",
   "metadata": {},
   "outputs": [
    {
     "name": "stdout",
     "output_type": "stream",
     "text": [
      "\"7500 to 32500\"  is matched successfully!\n",
      "\"7500  ~  32500\"  is matched successfully!\n",
      "\"39500 -  44500\"  is matched successfully!\n",
      "\"165654\"  is skipped successfully!\n",
      "\"1654654\"  is skipped successfully!\n",
      "\"165654/month\"  is skipped successfully!\n",
      "\"11.97 per hour\"  is skipped successfully!\n",
      "\"34000perAnnum\"  is skipped successfully!\n",
      "\"30000   35000\"  is skipped successfully!\n",
      "\n",
      "Your defined pattern has fulfilled all requirements.\n"
     ]
    }
   ],
   "source": [
    "matches = [\"7500 to 32500\",\"7500  ~  32500\",\"39500 -  44500\"]\n",
    "skips = [\"165654\",\"1654654\",\"165654/month\",\"11.97 per hour\",\"34000perAnnum\",\"30000   35000\"]\n",
    "pattern = r\"(\\d+)(\\s+(?:to|-|~)\\s+\\d+)\"\n",
    "test(pattern, matches, skips)"
   ]
  },
  {
   "cell_type": "code",
   "execution_count": 4,
   "id": "fbaef026",
   "metadata": {},
   "outputs": [
    {
     "name": "stdout",
     "output_type": "stream",
     "text": [
      "\"7500\"  is matched successfully!\n",
      "\"7500\"  is matched successfully!\n",
      "\"44500\"  is matched successfully!\n",
      "\"7500 to 32500\"  is skipped successfully!\n",
      "\"7500  ~  32500\"  is skipped successfully!\n",
      "\"39500 -  44500\"  is skipped successfully!\n",
      "\"464.4549\"  is skipped successfully!\n",
      "\n",
      "Your defined pattern has fulfilled all requirements.\n",
      "7500\n",
      "7500\n",
      "39500\n",
      "464.4549\n"
     ]
    }
   ],
   "source": [
    "matches = [\"7500\",\"7500\",\"44500\"]\n",
    "skips = [\"7500 to 32500\",\"7500  ~  32500\",\"39500 -  44500\",\"464.4549\"]\n",
    "pattern = r\"(?:\\d+)\"\n",
    "test(pattern, matches, skips)\n",
    "for text in skips:\n",
    "    a = re.sub(\"(\\s+)(to|-|~)+\\s+.+\",\"\",text)\n",
    "    print(a)"
   ]
  },
  {
   "cell_type": "code",
   "execution_count": 5,
   "id": "3adfa6a9",
   "metadata": {},
   "outputs": [
    {
     "name": "stdout",
     "output_type": "stream",
     "text": [
      "\"7500\"  is matched successfully!\n",
      "\"7500\"  is matched successfully!\n",
      "\"44500\"  is matched successfully!\n",
      "\"7500 to 32500\"  is skipped successfully!\n",
      "\"7500  ~  32500\"  is skipped successfully!\n",
      "\"39500 -  44500\"  is skipped successfully!\n",
      "\n",
      "Your defined pattern has fulfilled all requirements.\n",
      "32500\n",
      "32500\n",
      "44500\n"
     ]
    }
   ],
   "source": [
    "matches = [\"7500\",\"7500\",\"44500\"]\n",
    "skips = [\"7500 to 32500\",\"7500  ~  32500\",\"39500 -  44500\"]\n",
    "pattern = r\"(?:\\d+)\"\n",
    "test(pattern, matches, skips)\n",
    "for text in skips:\n",
    "    a = re.sub(\"(\\d+)(\\s+)(to|-|~)+\\s+\",\"\",text)\n",
    "    print(a)"
   ]
  },
  {
   "cell_type": "code",
   "execution_count": 6,
   "id": "0e26193c",
   "metadata": {},
   "outputs": [
    {
     "name": "stdout",
     "output_type": "stream",
     "text": [
      "\"75.00 h\"  is matched successfully!\n",
      "\"7500 h\"  is matched successfully!\n",
      "\"39500 h\"  is matched successfully!\n",
      "\"11.63  ho\"  is matched successfully!\n",
      "\"11.78 h\"  is matched successfully!\n",
      "\"7500\"  is skipped successfully!\n",
      "\"7500\"  is skipped successfully!\n",
      "\"44500\"  is skipped successfully!\n",
      "\n",
      "Your defined pattern has fulfilled all requirements.\n",
      "75.00\n",
      "7500\n",
      "39500\n",
      "11.63\n",
      "11.78\n"
     ]
    }
   ],
   "source": [
    "matches = [\"75.00 h\",\"7500 h\",\"39500 h\",\"11.63  ho\",\"11.78 h\"]\n",
    "skips = [\"7500\",\"7500\",\"44500\"]\n",
    "pattern = r\"\\d+(.*|\\d+)\\s+\\w+\"\n",
    "test(pattern, matches, skips)\n",
    "\n",
    "for text in matches:\n",
    "    a = re.sub(\"\\s+.+\",\"\",text)\n",
    "    print(a)"
   ]
  }
 ],
 "metadata": {
  "kernelspec": {
   "display_name": "Python 3 (ipykernel)",
   "language": "python",
   "name": "python3"
  },
  "language_info": {
   "codemirror_mode": {
    "name": "ipython",
    "version": 3
   },
   "file_extension": ".py",
   "mimetype": "text/x-python",
   "name": "python",
   "nbconvert_exporter": "python",
   "pygments_lexer": "ipython3",
   "version": "3.9.13"
  }
 },
 "nbformat": 4,
 "nbformat_minor": 5
}
