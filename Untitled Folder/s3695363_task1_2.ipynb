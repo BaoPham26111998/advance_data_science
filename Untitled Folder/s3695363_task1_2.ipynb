{
 "cells": [
  {
   "cell_type": "markdown",
   "id": "1bbc6e34",
   "metadata": {},
   "source": [
    "# \n",
    "<a id=\"data-prep\"></a>\n",
    "<div style=\"background-color: #000D5B; color: white; text-align: center; padding: 6px 0 22px 0\">\n",
    "    <h1>Advanced Programming for Data Science </h1>\n",
    "    <h2>Assignment 1: Task 1 and 2 </h2>\n",
    "</div>"
   ]
  },
  {
   "cell_type": "markdown",
   "id": "a80d8496",
   "metadata": {},
   "source": [
    "## Navigation\n",
    "\n",
    "* [Prepare userfull python, Spark libraries](#import-package)\n",
    "* [Function write to error list](#funtion-write-errorlist)\n",
    "* [Data preparation](#data-preparation)\n",
    "* [Data cleansing](#data-cleansing)\n",
    "    * [Overview the the data frame](#overview-df)\n",
    "    * [Handle Missing value in columns Company, ContractType, ContractTime](#missing-value-company-contrtime-contrtype)\n",
    "    * [Analysing and cleansing OpenDate and CloseDate column](#opendate-closedate)\n",
    "    * [Analysing and cleansing Salary column](#salary)"
   ]
  },
  {
   "cell_type": "markdown",
   "id": "ac1e06c1",
   "metadata": {},
   "source": [
    "<a id='import-package'></a>\n",
    "### Import usefull package"
   ]
  },
  {
   "cell_type": "code",
   "execution_count": 1,
   "id": "82e3a3ab",
   "metadata": {},
   "outputs": [
    {
     "data": {
      "text/html": [
       "<style>\n",
       "div.output_area pre {\n",
       "white-space: pre;\n",
       "}|\n",
       ".container {\n",
       "width:95% !important;\n",
       "}\n",
       "style>\n",
       "%load_ext autoreload\n",
       "%autoreload 2\n",
       "%matplotlib inline\n",
       "from IPython import get_ipython\n",
       "ipython = get_ipython()\n",
       "\n",
       "\n",
       "\n",
       "ipython.magic(\"pylab\")\n",
       "ipython.magic(\"load_ext autoreload\")\n",
       "ipython.magic(\"autoreload 2\")\n"
      ],
      "text/plain": [
       "<IPython.core.display.HTML object>"
      ]
     },
     "metadata": {},
     "output_type": "display_data"
    }
   ],
   "source": [
    "%%html\n",
    "<style>\n",
    "div.output_area pre {\n",
    "white-space: pre;\n",
    "}|\n",
    ".container {\n",
    "width:95% !important;\n",
    "}\n",
    "style>\n",
    "%load_ext autoreload\n",
    "%autoreload 2\n",
    "%matplotlib inline\n",
    "from IPython import get_ipython\n",
    "ipython = get_ipython()\n",
    "\n",
    "\n",
    "\n",
    "ipython.magic(\"pylab\")\n",
    "ipython.magic(\"load_ext autoreload\")\n",
    "ipython.magic(\"autoreload 2\")"
   ]
  },
  {
   "cell_type": "code",
   "execution_count": 2,
   "id": "715a3d14",
   "metadata": {},
   "outputs": [],
   "source": [
    "# Import useful libraries and packages\n",
    "import re as re\n",
    "import numpy as np\n",
    "import pandas as pd\n",
    "\n",
    "# Visualization\n",
    "import matplotlib.pyplot as plt\n",
    "import seaborn as sns\n",
    "\n",
    "# Date time\n",
    "from datetime import datetime\n",
    "import datetime as dt\n",
    "\n",
    "import difflib\n",
    "from difflib import SequenceMatcher\n",
    "import xml.etree.ElementTree as et\n",
    "\n",
    "import warnings\n",
    "warnings.simplefilter(action='ignore', category=FutureWarning)\n",
    "\n",
    "%matplotlib inline"
   ]
  },
  {
   "cell_type": "code",
   "execution_count": 3,
   "id": "8f20affd",
   "metadata": {},
   "outputs": [],
   "source": [
    "df_error = pd.DataFrame(columns=['indexOfdf','Id','ColumnName','Original','Modified','ErrorType','Fixxing'])\n",
    "df_error['indexOfdf'] = df_error['indexOfdf'].astype('Int64')\n",
    "df_error['Id'] = df_error['Id'].astype('Int64')\n",
    "df_error['ColumnName'] = df_error['ColumnName'].astype(str)\n",
    "df_error['Original'] = df_error['Original'].astype(str)\n",
    "df_error['Modified'] = df_error['Modified'].astype(str)\n",
    "df_error['ErrorType'] = df_error['ErrorType'].astype(str)\n",
    "df_error['Fixxing'] = df_error['Fixxing'].astype(str)"
   ]
  },
  {
   "cell_type": "code",
   "execution_count": 4,
   "id": "2f07deda",
   "metadata": {},
   "outputs": [],
   "source": [
    "df_error.to_csv(\"s3695363_error_list\",index=False)"
   ]
  },
  {
   "cell_type": "markdown",
   "id": "39b0d186",
   "metadata": {},
   "source": [
    "<a id='funtion-write-errorlist'></a>\n",
    "\n",
    "### Functions write to error list"
   ]
  },
  {
   "cell_type": "code",
   "execution_count": 5,
   "id": "250c600b",
   "metadata": {},
   "outputs": [],
   "source": [
    "def write_to_error_list_1(ColumnName,ErrorType,df_error,df):\n",
    "    \n",
    "    if ErrorType == \"- value\":\n",
    "        df_error[\"indexOfdf\"] = df[ColumnName].loc[df[ColumnName] == \"-\"].index\n",
    "        df_error[\"Id\"] = df[\"Id\"].loc[df_error[\"indexOfdf\"]].values\n",
    "        df_error[\"ColumnName\"] = ColumnName\n",
    "        df_error[\"Original\"] = df_to_fix[ColumnName].loc[df_error[\"indexOfdf\"]].values\n",
    "        df_error[\"Modified\"] = \"non_specified\"\n",
    "        df_error[\"ErrorType\"] = ErrorType\n",
    "        df_error[\"Fixxing\"] = \"replace '-' value to non_specified\"\n",
    "        \n",
    "    if ErrorType == \"NaN int value\":\n",
    "        df_error[\"indexOfdf\"] = df[ColumnName].loc[df[ColumnName].isna()].index\n",
    "        df_error[\"Id\"] = df[\"Id\"].loc[df_error[\"indexOfdf\"]].values\n",
    "        df_error[\"ColumnName\"] = ColumnName\n",
    "        df_error[\"Original\"] = df_to_fix[ColumnName].loc[df_error[\"indexOfdf\"]].values\n",
    "        df_error[\"Modified\"] = \"-\"\n",
    "        df_error[\"ErrorType\"] = ErrorType\n",
    "        df_error[\"Fixxing\"] = \"replace NaN value to -\"\n",
    "        \n",
    "    if ErrorType == \"NaN value\":\n",
    "        df_error[\"indexOfdf\"] = df[ColumnName].loc[df[ColumnName].isna()].index\n",
    "        df_error[\"Id\"] = df[\"Id\"].loc[df_error[\"indexOfdf\"]].values\n",
    "        df_error[\"ColumnName\"] = ColumnName\n",
    "        df_error[\"Original\"] = df_to_fix[ColumnName].loc[df_error[\"indexOfdf\"]].values\n",
    "        df_error[\"Modified\"] = \"non_specified\"\n",
    "        df_error[\"ErrorType\"] = ErrorType\n",
    "        df_error[\"Fixxing\"] = \"replace NaN value to non_specified\"\n",
    "        \n",
    "    write_error_list_to_csv(df_error)\n",
    "\n"
   ]
  },
  {
   "cell_type": "code",
   "execution_count": 6,
   "id": "81a992b1",
   "metadata": {},
   "outputs": [],
   "source": [
    "def write_to_error_list_2(ColumnName,ErrorType,df_error,df,df_to_fix):\n",
    "# #     df.filter([0], regex=r'(Hel|Just)', axis=0)\n",
    "    df_error[\"indexOfdf\"] = df[ColumnName].loc[df[ColumnName].str.contains(r'\\d+\\w\\d+')].index\n",
    "    df_error[\"Id\"] = df[\"Id\"].loc[df_error[\"indexOfdf\"]].values\n",
    "    df_error[\"ColumnName\"] = ColumnName\n",
    "    df_error[\"Original\"] = df[ColumnName].loc[df_error[\"indexOfdf\"]].values\n",
    "    df_error[\"Modified\"] = df_to_fix['OpenDate'].loc[df_error[\"indexOfdf\"]].values\n",
    "    df_error[\"ErrorType\"] = ErrorType\n",
    "    df_error[\"Fixxing\"] = \"replace invalid datetime value to white-space\"\n",
    "    \n",
    "#     print(df_error)\n",
    "    \n",
    "    write_error_list_to_csv(df_error)"
   ]
  },
  {
   "cell_type": "code",
   "execution_count": 7,
   "id": "635789ae",
   "metadata": {},
   "outputs": [],
   "source": [
    "def write_to_error_list_3(ColumnName,ErrorType,df_error,df,df_to_fix):\n",
    "# #     df.filter([0], regex=r'(Hel|Just)', axis=0)\n",
    "    df_error[\"indexOfdf\"] = df[ColumnName].loc[df[ColumnName].str.contains(r'\\d+\\d+')].index\n",
    "    df_error[\"Id\"] = df[\"Id\"].loc[df_error[\"indexOfdf\"]].values\n",
    "    df_error[\"ColumnName\"] = ColumnName\n",
    "    df_error[\"Original\"] = df[ColumnName].loc[df_error[\"indexOfdf\"]].dtypes\n",
    "    df_error[\"Modified\"] = df_to_fix['OpenDate'].loc[df_error[\"indexOfdf\"]].dtypes\n",
    "    df_error[\"ErrorType\"] = ErrorType\n",
    "    df_error[\"Fixxing\"] = \"convert type to datetime\"\n",
    "    \n",
    "#     print(df_error)\n",
    "    \n",
    "    write_error_list_to_csv(df_error)"
   ]
  },
  {
   "cell_type": "code",
   "execution_count": 8,
   "id": "0afbe710",
   "metadata": {},
   "outputs": [],
   "source": [
    "def write_error_list_to_csv(df):\n",
    "    file_name = \"s3695363_error_list\"\n",
    "    df.to_csv(file_name,mode='a',index = False, header = False)\n",
    "    df.drop(df.index, inplace=True)"
   ]
  },
  {
   "cell_type": "markdown",
   "id": "24cbb7cb",
   "metadata": {},
   "source": [
    "<a id='data-preparation'></a>\n",
    "\n",
    "## Data preparation"
   ]
  },
  {
   "cell_type": "markdown",
   "id": "5d7e081f",
   "metadata": {},
   "source": [
    "### Read from xml file"
   ]
  },
  {
   "cell_type": "code",
   "execution_count": 9,
   "id": "e6ea4154",
   "metadata": {},
   "outputs": [],
   "source": [
    "df_job_all = pd.read_xml(\"s3695363_dataset1.xml\", xpath=\".//Job\")"
   ]
  },
  {
   "cell_type": "code",
   "execution_count": 10,
   "id": "caefd458",
   "metadata": {},
   "outputs": [],
   "source": [
    "tree = et.parse('s3695363_dataset1.xml')\n",
    "root = tree.getroot()"
   ]
  },
  {
   "cell_type": "code",
   "execution_count": 11,
   "id": "8e5fd36a",
   "metadata": {},
   "outputs": [
    {
     "data": {
      "text/html": [
       "<div>\n",
       "<style scoped>\n",
       "    .dataframe tbody tr th:only-of-type {\n",
       "        vertical-align: middle;\n",
       "    }\n",
       "\n",
       "    .dataframe tbody tr th {\n",
       "        vertical-align: top;\n",
       "    }\n",
       "\n",
       "    .dataframe thead th {\n",
       "        text-align: right;\n",
       "    }\n",
       "</style>\n",
       "<table border=\"1\" class=\"dataframe\">\n",
       "  <thead>\n",
       "    <tr style=\"text-align: right;\">\n",
       "      <th></th>\n",
       "      <th>SourceName</th>\n",
       "      <th>OpenDate</th>\n",
       "      <th>CloseDate</th>\n",
       "      <th>Id</th>\n",
       "    </tr>\n",
       "  </thead>\n",
       "  <tbody>\n",
       "    <tr>\n",
       "      <th>45049</th>\n",
       "      <td>ukstaffsearch.com</td>\n",
       "      <td>20131205T150000</td>\n",
       "      <td>20140104T150000</td>\n",
       "      <td>68293877</td>\n",
       "    </tr>\n",
       "    <tr>\n",
       "      <th>17371</th>\n",
       "      <td>caterer.com</td>\n",
       "      <td>20120720T120000</td>\n",
       "      <td>20120918T120000</td>\n",
       "      <td>66698840</td>\n",
       "    </tr>\n",
       "    <tr>\n",
       "      <th>22730</th>\n",
       "      <td>cv-library.co.uk</td>\n",
       "      <td>20120714T120000</td>\n",
       "      <td>20120813T120000</td>\n",
       "      <td>67895483</td>\n",
       "    </tr>\n",
       "    <tr>\n",
       "      <th>33879</th>\n",
       "      <td>hays.co.uk</td>\n",
       "      <td>20121202T000000</td>\n",
       "      <td>20130131T000000</td>\n",
       "      <td>67829433</td>\n",
       "    </tr>\n",
       "    <tr>\n",
       "      <th>5690</th>\n",
       "      <td>totaljobs.com</td>\n",
       "      <td>20130717T150000</td>\n",
       "      <td>20130816T150000</td>\n",
       "      <td>68688369</td>\n",
       "    </tr>\n",
       "    <tr>\n",
       "      <th>11683</th>\n",
       "      <td>jobsite.co.uk</td>\n",
       "      <td>20120216T150000</td>\n",
       "      <td>20120317T150000</td>\n",
       "      <td>71198321</td>\n",
       "    </tr>\n",
       "    <tr>\n",
       "      <th>35026</th>\n",
       "      <td>staffnurse.com</td>\n",
       "      <td>20130616T120000</td>\n",
       "      <td>20130815T120000</td>\n",
       "      <td>71096984</td>\n",
       "    </tr>\n",
       "    <tr>\n",
       "      <th>32586</th>\n",
       "      <td>gojobsearch.co.uk</td>\n",
       "      <td>20120530T120000</td>\n",
       "      <td>20120729T120000</td>\n",
       "      <td>71225935</td>\n",
       "    </tr>\n",
       "    <tr>\n",
       "      <th>47931</th>\n",
       "      <td>careersinconstruction.com</td>\n",
       "      <td>20120505T120000</td>\n",
       "      <td>20120803T120000</td>\n",
       "      <td>72662593</td>\n",
       "    </tr>\n",
       "    <tr>\n",
       "      <th>42729</th>\n",
       "      <td>rengineeringjobs.com</td>\n",
       "      <td>20121108T120000</td>\n",
       "      <td>20121122T120000</td>\n",
       "      <td>69249293</td>\n",
       "    </tr>\n",
       "  </tbody>\n",
       "</table>\n",
       "</div>"
      ],
      "text/plain": [
       "                      SourceName         OpenDate        CloseDate        Id\n",
       "45049          ukstaffsearch.com  20131205T150000  20140104T150000  68293877\n",
       "17371                caterer.com  20120720T120000  20120918T120000  66698840\n",
       "22730           cv-library.co.uk  20120714T120000  20120813T120000  67895483\n",
       "33879                 hays.co.uk  20121202T000000  20130131T000000  67829433\n",
       "5690               totaljobs.com  20130717T150000  20130816T150000  68688369\n",
       "11683              jobsite.co.uk  20120216T150000  20120317T150000  71198321\n",
       "35026             staffnurse.com  20130616T120000  20130815T120000  71096984\n",
       "32586          gojobsearch.co.uk  20120530T120000  20120729T120000  71225935\n",
       "47931  careersinconstruction.com  20120505T120000  20120803T120000  72662593\n",
       "42729       rengineeringjobs.com  20121108T120000  20121122T120000  69249293"
      ]
     },
     "execution_count": 11,
     "metadata": {},
     "output_type": "execute_result"
    }
   ],
   "source": [
    "df_cols = [\"SourceName\", \"OpenDate\",\"CloseDate\",\"Id\"]\n",
    "rows = []\n",
    "\n",
    "for child in root:\n",
    "#     s_SourceName = child.attrib.get(\"Name\") if root is not None else None\n",
    "#     print(child.tag)\n",
    "#     print(child.attrib.get(\"Name\"))\n",
    "    for grand_children in child:\n",
    "#         print(grand_children.tag)\n",
    "#         print(grand_children.attrib.get(\"OpenDate\"))\n",
    "#         print(grand_children.attrib.get(\"CloseDate\"))\n",
    "#         print(grand_children[0].tail)\n",
    "        for grand_grand_children in grand_children:\n",
    "#             print(grand_grand_children.tag, grand_grand_children.attrib,grand_grand_children.text)\n",
    "            s_SourceName = child.attrib.get(\"Name\") if child is not None else None\n",
    "            s_OpenDate = grand_children.attrib.get(\"OpenDate\") if grand_children is not None else None\n",
    "            s_CloseDate = grand_children.attrib.get(\"CloseDate\") if grand_children is not None else None\n",
    "\n",
    "            if (grand_grand_children.tag == \"Id\"):\n",
    "                s_Id = grand_grand_children.text \n",
    "\n",
    "                rows.append({\"SourceName\": s_SourceName, \n",
    "                            \"OpenDate\": s_OpenDate, \n",
    "                            \"CloseDate\": s_CloseDate, \n",
    "                            \"Id\": s_Id})\n",
    "\n",
    "df_sourcename = pd.DataFrame(rows, columns = df_cols)\n",
    "df_sourcename.sample(10)"
   ]
  },
  {
   "cell_type": "code",
   "execution_count": 12,
   "id": "b016f1be",
   "metadata": {},
   "outputs": [
    {
     "data": {
      "text/plain": [
       "SourceName    50753\n",
       "OpenDate      50753\n",
       "CloseDate     50753\n",
       "Id            50753\n",
       "dtype: int64"
      ]
     },
     "execution_count": 12,
     "metadata": {},
     "output_type": "execute_result"
    }
   ],
   "source": [
    "df_sourcename.count()"
   ]
  },
  {
   "cell_type": "code",
   "execution_count": 13,
   "id": "b51c7215",
   "metadata": {},
   "outputs": [
    {
     "data": {
      "text/plain": [
       "SourceName    0\n",
       "OpenDate      0\n",
       "CloseDate     0\n",
       "Id            0\n",
       "dtype: int64"
      ]
     },
     "execution_count": 13,
     "metadata": {},
     "output_type": "execute_result"
    }
   ],
   "source": [
    "df_sourcename.isna().sum()"
   ]
  },
  {
   "cell_type": "code",
   "execution_count": 14,
   "id": "b9ae0284",
   "metadata": {},
   "outputs": [
    {
     "data": {
      "text/html": [
       "<div>\n",
       "<style scoped>\n",
       "    .dataframe tbody tr th:only-of-type {\n",
       "        vertical-align: middle;\n",
       "    }\n",
       "\n",
       "    .dataframe tbody tr th {\n",
       "        vertical-align: top;\n",
       "    }\n",
       "\n",
       "    .dataframe thead th {\n",
       "        text-align: right;\n",
       "    }\n",
       "</style>\n",
       "<table border=\"1\" class=\"dataframe\">\n",
       "  <thead>\n",
       "    <tr style=\"text-align: right;\">\n",
       "      <th></th>\n",
       "      <th>OpenDate</th>\n",
       "      <th>CloseDate</th>\n",
       "      <th>Id</th>\n",
       "      <th>Title</th>\n",
       "      <th>Location</th>\n",
       "      <th>Company</th>\n",
       "      <th>ContractType</th>\n",
       "      <th>ContractTime</th>\n",
       "      <th>Category</th>\n",
       "      <th>Salary</th>\n",
       "    </tr>\n",
       "  </thead>\n",
       "  <tbody>\n",
       "    <tr>\n",
       "      <th>34137</th>\n",
       "      <td>20130830T000000</td>\n",
       "      <td>20130913T000000</td>\n",
       "      <td>67285133</td>\n",
       "      <td>Out Of Hours Booking Coordinator  Altrincham</td>\n",
       "      <td>Altrincham</td>\n",
       "      <td>Meridian Health</td>\n",
       "      <td>part_time</td>\n",
       "      <td>None</td>\n",
       "      <td>Healthcare &amp; Nursing Jobs</td>\n",
       "      <td>15763</td>\n",
       "    </tr>\n",
       "    <tr>\n",
       "      <th>29081</th>\n",
       "      <td>20120521T150000</td>\n",
       "      <td>20120819T150000</td>\n",
       "      <td>68360187</td>\n",
       "      <td>Junior Java Developer, Greenfield Investment Bank</td>\n",
       "      <td>London</td>\n",
       "      <td>Aston Carter</td>\n",
       "      <td>NaN</td>\n",
       "      <td>permanent</td>\n",
       "      <td>IT Jobs</td>\n",
       "      <td>55000</td>\n",
       "    </tr>\n",
       "    <tr>\n",
       "      <th>40305</th>\n",
       "      <td>20131124T120000</td>\n",
       "      <td>20140222T120000</td>\n",
       "      <td>71763926</td>\n",
       "      <td>CNC ROUTER TABLE OPERATOR  AUTOCAD</td>\n",
       "      <td>Kidderminster</td>\n",
       "      <td>Finna Fans Ltd</td>\n",
       "      <td>full_time</td>\n",
       "      <td>NaN</td>\n",
       "      <td>Engineering Jobs</td>\n",
       "      <td>15840</td>\n",
       "    </tr>\n",
       "    <tr>\n",
       "      <th>27463</th>\n",
       "      <td>20120420T120000</td>\n",
       "      <td>20120719T120000</td>\n",
       "      <td>69681565</td>\n",
       "      <td>2013 Graduate Rotation Scheme in Executive Sea...</td>\n",
       "      <td>Central London</td>\n",
       "      <td>GRADUATE RECRUITMENT BUREAU</td>\n",
       "      <td>full_time</td>\n",
       "      <td>permanent</td>\n",
       "      <td>Teaching Jobs</td>\n",
       "      <td>30000</td>\n",
       "    </tr>\n",
       "    <tr>\n",
       "      <th>38943</th>\n",
       "      <td>20120226T000000</td>\n",
       "      <td>20120526T000000</td>\n",
       "      <td>69550879</td>\n",
       "      <td>Semi Skilled CNC Machinist</td>\n",
       "      <td>Burnley</td>\n",
       "      <td>Jobsearch</td>\n",
       "      <td>full_time</td>\n",
       "      <td>NaN</td>\n",
       "      <td>Engineering Jobs</td>\n",
       "      <td>14016</td>\n",
       "    </tr>\n",
       "    <tr>\n",
       "      <th>12085</th>\n",
       "      <td>20130222T000000</td>\n",
       "      <td>20130324T000000</td>\n",
       "      <td>68806784</td>\n",
       "      <td>Middleweight C ASPNet / Win Forms / MS SQL Dev...</td>\n",
       "      <td>London</td>\n",
       "      <td>J Com Resources Ltd</td>\n",
       "      <td>NaN</td>\n",
       "      <td>permanent</td>\n",
       "      <td>IT Jobs</td>\n",
       "      <td>36500</td>\n",
       "    </tr>\n",
       "    <tr>\n",
       "      <th>47383</th>\n",
       "      <td>20120618T120000</td>\n",
       "      <td>20120718T120000</td>\n",
       "      <td>68801730</td>\n",
       "      <td>RE Teacher Required for Bolton area ASAP</td>\n",
       "      <td>Bolton</td>\n",
       "      <td>ITN Mark Education</td>\n",
       "      <td>None</td>\n",
       "      <td>None</td>\n",
       "      <td>Teaching Jobs</td>\n",
       "      <td>22000.0</td>\n",
       "    </tr>\n",
       "    <tr>\n",
       "      <th>27045</th>\n",
       "      <td>20120528T000000</td>\n",
       "      <td>20120727T000000</td>\n",
       "      <td>70569580</td>\n",
       "      <td>Graduate Web Development Training Scheme</td>\n",
       "      <td>Central London</td>\n",
       "      <td>GIVEAGRADAGO LTD</td>\n",
       "      <td>full_time</td>\n",
       "      <td>permanent</td>\n",
       "      <td>IT Jobs</td>\n",
       "      <td>22500</td>\n",
       "    </tr>\n",
       "    <tr>\n",
       "      <th>18386</th>\n",
       "      <td>20120820T150000</td>\n",
       "      <td>20121019T150000</td>\n",
       "      <td>71845285</td>\n",
       "      <td>General Manager  Stylish Brasserie  Sevenoaks ...</td>\n",
       "      <td>Sevenoaks</td>\n",
       "      <td>Bee Recruitment London Ltd</td>\n",
       "      <td>None</td>\n",
       "      <td>None</td>\n",
       "      <td>Hospitality &amp; Catering Jobs</td>\n",
       "      <td>33500</td>\n",
       "    </tr>\n",
       "    <tr>\n",
       "      <th>42444</th>\n",
       "      <td>20120129T000000</td>\n",
       "      <td>20120428T000000</td>\n",
       "      <td>68628665</td>\n",
       "      <td>IT Operations Manager  ITIL, Windows, Networki...</td>\n",
       "      <td>West Town</td>\n",
       "      <td>ITR Partners Limited</td>\n",
       "      <td>NaN</td>\n",
       "      <td>permanent</td>\n",
       "      <td>IT Jobs</td>\n",
       "      <td>34000</td>\n",
       "    </tr>\n",
       "  </tbody>\n",
       "</table>\n",
       "</div>"
      ],
      "text/plain": [
       "              OpenDate        CloseDate        Id  \\\n",
       "34137  20130830T000000  20130913T000000  67285133   \n",
       "29081  20120521T150000  20120819T150000  68360187   \n",
       "40305  20131124T120000  20140222T120000  71763926   \n",
       "27463  20120420T120000  20120719T120000  69681565   \n",
       "38943  20120226T000000  20120526T000000  69550879   \n",
       "12085  20130222T000000  20130324T000000  68806784   \n",
       "47383  20120618T120000  20120718T120000  68801730   \n",
       "27045  20120528T000000  20120727T000000  70569580   \n",
       "18386  20120820T150000  20121019T150000  71845285   \n",
       "42444  20120129T000000  20120428T000000  68628665   \n",
       "\n",
       "                                                   Title        Location  \\\n",
       "34137       Out Of Hours Booking Coordinator  Altrincham      Altrincham   \n",
       "29081  Junior Java Developer, Greenfield Investment Bank          London   \n",
       "40305                 CNC ROUTER TABLE OPERATOR  AUTOCAD   Kidderminster   \n",
       "27463  2013 Graduate Rotation Scheme in Executive Sea...  Central London   \n",
       "38943                         Semi Skilled CNC Machinist         Burnley   \n",
       "12085  Middleweight C ASPNet / Win Forms / MS SQL Dev...          London   \n",
       "47383           RE Teacher Required for Bolton area ASAP          Bolton   \n",
       "27045           Graduate Web Development Training Scheme  Central London   \n",
       "18386  General Manager  Stylish Brasserie  Sevenoaks ...       Sevenoaks   \n",
       "42444  IT Operations Manager  ITIL, Windows, Networki...       West Town   \n",
       "\n",
       "                           Company ContractType ContractTime  \\\n",
       "34137              Meridian Health    part_time         None   \n",
       "29081                 Aston Carter          NaN    permanent   \n",
       "40305               Finna Fans Ltd    full_time          NaN   \n",
       "27463  GRADUATE RECRUITMENT BUREAU    full_time    permanent   \n",
       "38943                    Jobsearch    full_time          NaN   \n",
       "12085          J Com Resources Ltd          NaN    permanent   \n",
       "47383           ITN Mark Education         None         None   \n",
       "27045             GIVEAGRADAGO LTD    full_time    permanent   \n",
       "18386   Bee Recruitment London Ltd         None         None   \n",
       "42444         ITR Partners Limited          NaN    permanent   \n",
       "\n",
       "                          Category   Salary  \n",
       "34137    Healthcare & Nursing Jobs    15763  \n",
       "29081                      IT Jobs    55000  \n",
       "40305             Engineering Jobs    15840  \n",
       "27463                Teaching Jobs    30000  \n",
       "38943             Engineering Jobs    14016  \n",
       "12085                      IT Jobs    36500  \n",
       "47383                Teaching Jobs  22000.0  \n",
       "27045                      IT Jobs    22500  \n",
       "18386  Hospitality & Catering Jobs    33500  \n",
       "42444                      IT Jobs    34000  "
      ]
     },
     "execution_count": 14,
     "metadata": {},
     "output_type": "execute_result"
    }
   ],
   "source": [
    "df_job_all.sample(10)"
   ]
  },
  {
   "cell_type": "code",
   "execution_count": 15,
   "id": "1cc524d7",
   "metadata": {},
   "outputs": [
    {
     "data": {
      "text/plain": [
       "OpenDate        50753\n",
       "CloseDate       50753\n",
       "Id              50753\n",
       "Title           50753\n",
       "Location        50753\n",
       "Company         45864\n",
       "ContractType    13926\n",
       "ContractTime    36695\n",
       "Category        50753\n",
       "Salary          48927\n",
       "dtype: int64"
      ]
     },
     "execution_count": 15,
     "metadata": {},
     "output_type": "execute_result"
    }
   ],
   "source": [
    "df_job_all.count()"
   ]
  },
  {
   "cell_type": "code",
   "execution_count": 16,
   "id": "8d504040",
   "metadata": {},
   "outputs": [
    {
     "data": {
      "text/plain": [
       "OpenDate            0\n",
       "CloseDate           0\n",
       "Id                  0\n",
       "Title               0\n",
       "Location            0\n",
       "Company          4889\n",
       "ContractType    36827\n",
       "ContractTime    14058\n",
       "Category            0\n",
       "Salary           1826\n",
       "dtype: int64"
      ]
     },
     "execution_count": 16,
     "metadata": {},
     "output_type": "execute_result"
    }
   ],
   "source": [
    "df_job_all.isnull().sum()"
   ]
  },
  {
   "cell_type": "code",
   "execution_count": 17,
   "id": "4561ebc6",
   "metadata": {},
   "outputs": [
    {
     "data": {
      "text/plain": [
       "OpenDate        object\n",
       "CloseDate       object\n",
       "Id               int64\n",
       "Title           object\n",
       "Location        object\n",
       "Company         object\n",
       "ContractType    object\n",
       "ContractTime    object\n",
       "Category        object\n",
       "Salary          object\n",
       "dtype: object"
      ]
     },
     "execution_count": 17,
     "metadata": {},
     "output_type": "execute_result"
    }
   ],
   "source": [
    "df_job_all.dtypes"
   ]
  },
  {
   "cell_type": "code",
   "execution_count": 18,
   "id": "f2695901",
   "metadata": {},
   "outputs": [],
   "source": [
    "# Convert Id to Int to match with the df_job_all[\"Id\"].dtypes to MERGE df_job_all and df_sourcename\n",
    "df_sourcename[\"Id\"] = df_sourcename[\"Id\"].astype('int64')"
   ]
  },
  {
   "cell_type": "code",
   "execution_count": 19,
   "id": "f9c47035",
   "metadata": {},
   "outputs": [
    {
     "data": {
      "text/plain": [
       "SourceName    object\n",
       "OpenDate      object\n",
       "CloseDate     object\n",
       "Id             int64\n",
       "dtype: object"
      ]
     },
     "execution_count": 19,
     "metadata": {},
     "output_type": "execute_result"
    }
   ],
   "source": [
    "df_sourcename.dtypes"
   ]
  },
  {
   "cell_type": "code",
   "execution_count": 20,
   "id": "c84dc45d",
   "metadata": {},
   "outputs": [],
   "source": [
    "# Merge 2 dataframes\n",
    "df_all = df_job_all.merge(df_sourcename,how='inner', on=['Id','OpenDate','CloseDate'])"
   ]
  },
  {
   "cell_type": "markdown",
   "id": "753b9cb4",
   "metadata": {},
   "source": [
    "<a id='data-cleansing'></a>\n",
    "\n",
    "## Data cleansing"
   ]
  },
  {
   "cell_type": "markdown",
   "id": "3a88136b",
   "metadata": {},
   "source": [
    "<a id='overview-df'></a>\n",
    "\n",
    "### Overview the the data frame"
   ]
  },
  {
   "cell_type": "code",
   "execution_count": 21,
   "id": "a8b8da0c",
   "metadata": {},
   "outputs": [
    {
     "data": {
      "text/html": [
       "<div>\n",
       "<style scoped>\n",
       "    .dataframe tbody tr th:only-of-type {\n",
       "        vertical-align: middle;\n",
       "    }\n",
       "\n",
       "    .dataframe tbody tr th {\n",
       "        vertical-align: top;\n",
       "    }\n",
       "\n",
       "    .dataframe thead th {\n",
       "        text-align: right;\n",
       "    }\n",
       "</style>\n",
       "<table border=\"1\" class=\"dataframe\">\n",
       "  <thead>\n",
       "    <tr style=\"text-align: right;\">\n",
       "      <th></th>\n",
       "      <th>OpenDate</th>\n",
       "      <th>CloseDate</th>\n",
       "      <th>Id</th>\n",
       "      <th>Title</th>\n",
       "      <th>Location</th>\n",
       "      <th>Company</th>\n",
       "      <th>ContractType</th>\n",
       "      <th>ContractTime</th>\n",
       "      <th>Category</th>\n",
       "      <th>Salary</th>\n",
       "      <th>SourceName</th>\n",
       "    </tr>\n",
       "  </thead>\n",
       "  <tbody>\n",
       "    <tr>\n",
       "      <th>18165</th>\n",
       "      <td>20130605T000000</td>\n",
       "      <td>20130619T000000</td>\n",
       "      <td>69183461</td>\n",
       "      <td>Malaysian Junior Sous  Chef De Partie, **** St...</td>\n",
       "      <td>London</td>\n",
       "      <td>Mise en Place London</td>\n",
       "      <td>None</td>\n",
       "      <td>None</td>\n",
       "      <td>Hospitality &amp; Catering Jobs</td>\n",
       "      <td>21500</td>\n",
       "      <td>jobs.catererandhotelkeeper.com</td>\n",
       "    </tr>\n",
       "    <tr>\n",
       "      <th>18046</th>\n",
       "      <td>20120317T120000</td>\n",
       "      <td>20120516T120000</td>\n",
       "      <td>69182387</td>\n",
       "      <td>CHEF DE RANG FOR MICHELIN STARRED RESTAURANT</td>\n",
       "      <td>London</td>\n",
       "      <td>Club Gascon</td>\n",
       "      <td>None</td>\n",
       "      <td>None</td>\n",
       "      <td>Hospitality &amp; Catering Jobs</td>\n",
       "      <td>21750</td>\n",
       "      <td>jobs.catererandhotelkeeper.com</td>\n",
       "    </tr>\n",
       "    <tr>\n",
       "      <th>41432</th>\n",
       "      <td>20120704T150000</td>\n",
       "      <td>20120902T150000</td>\n",
       "      <td>68626530</td>\n",
       "      <td>Web Developer, Front End Developer  HTML, CSS,...</td>\n",
       "      <td>Norfolk</td>\n",
       "      <td>Square One Resources</td>\n",
       "      <td>NaN</td>\n",
       "      <td>contract</td>\n",
       "      <td>IT Jobs</td>\n",
       "      <td>72000</td>\n",
       "      <td>jobserve.com</td>\n",
       "    </tr>\n",
       "    <tr>\n",
       "      <th>41825</th>\n",
       "      <td>20120819T120000</td>\n",
       "      <td>20120918T120000</td>\n",
       "      <td>69976718</td>\n",
       "      <td>SAP CRM Consultant  ****Kbens  SAP Transformat...</td>\n",
       "      <td>Little Chesterford</td>\n",
       "      <td>Circle Recruitment</td>\n",
       "      <td>NaN</td>\n",
       "      <td>permanent</td>\n",
       "      <td>IT Jobs</td>\n",
       "      <td>47500</td>\n",
       "      <td>jobserve.com</td>\n",
       "    </tr>\n",
       "    <tr>\n",
       "      <th>49016</th>\n",
       "      <td>20120925T000000</td>\n",
       "      <td>20121009T000000</td>\n",
       "      <td>67155596</td>\n",
       "      <td>Allied Health Care Professional : Optical Prac...</td>\n",
       "      <td>Cheshire</td>\n",
       "      <td>NaN</td>\n",
       "      <td>NaN</td>\n",
       "      <td>NaN</td>\n",
       "      <td>Healthcare &amp; Nursing Jobs</td>\n",
       "      <td>27500</td>\n",
       "      <td>jobs4medical.co.uk</td>\n",
       "    </tr>\n",
       "  </tbody>\n",
       "</table>\n",
       "</div>"
      ],
      "text/plain": [
       "              OpenDate        CloseDate        Id  \\\n",
       "18165  20130605T000000  20130619T000000  69183461   \n",
       "18046  20120317T120000  20120516T120000  69182387   \n",
       "41432  20120704T150000  20120902T150000  68626530   \n",
       "41825  20120819T120000  20120918T120000  69976718   \n",
       "49016  20120925T000000  20121009T000000  67155596   \n",
       "\n",
       "                                                   Title            Location  \\\n",
       "18165  Malaysian Junior Sous  Chef De Partie, **** St...              London   \n",
       "18046       CHEF DE RANG FOR MICHELIN STARRED RESTAURANT              London   \n",
       "41432  Web Developer, Front End Developer  HTML, CSS,...             Norfolk   \n",
       "41825  SAP CRM Consultant  ****Kbens  SAP Transformat...  Little Chesterford   \n",
       "49016  Allied Health Care Professional : Optical Prac...            Cheshire   \n",
       "\n",
       "                    Company ContractType ContractTime  \\\n",
       "18165  Mise en Place London         None         None   \n",
       "18046           Club Gascon         None         None   \n",
       "41432  Square One Resources          NaN     contract   \n",
       "41825    Circle Recruitment          NaN    permanent   \n",
       "49016                   NaN          NaN          NaN   \n",
       "\n",
       "                          Category Salary                      SourceName  \n",
       "18165  Hospitality & Catering Jobs  21500  jobs.catererandhotelkeeper.com  \n",
       "18046  Hospitality & Catering Jobs  21750  jobs.catererandhotelkeeper.com  \n",
       "41432                      IT Jobs  72000                    jobserve.com  \n",
       "41825                      IT Jobs  47500                    jobserve.com  \n",
       "49016    Healthcare & Nursing Jobs  27500              jobs4medical.co.uk  "
      ]
     },
     "execution_count": 21,
     "metadata": {},
     "output_type": "execute_result"
    }
   ],
   "source": [
    "df_all.sample(5)"
   ]
  },
  {
   "cell_type": "code",
   "execution_count": 22,
   "id": "3e1d3488",
   "metadata": {},
   "outputs": [
    {
     "data": {
      "text/plain": [
       "OpenDate        50753\n",
       "CloseDate       50753\n",
       "Id              50753\n",
       "Title           50753\n",
       "Location        50753\n",
       "Company         45864\n",
       "ContractType    13926\n",
       "ContractTime    36695\n",
       "Category        50753\n",
       "Salary          48927\n",
       "SourceName      50753\n",
       "dtype: int64"
      ]
     },
     "execution_count": 22,
     "metadata": {},
     "output_type": "execute_result"
    }
   ],
   "source": [
    "df_all.count()"
   ]
  },
  {
   "cell_type": "code",
   "execution_count": 23,
   "id": "f9bdf58d",
   "metadata": {},
   "outputs": [
    {
     "data": {
      "text/plain": [
       "OpenDate            0\n",
       "CloseDate           0\n",
       "Id                  0\n",
       "Title               0\n",
       "Location            0\n",
       "Company          4889\n",
       "ContractType    36827\n",
       "ContractTime    14058\n",
       "Category            0\n",
       "Salary           1826\n",
       "SourceName          0\n",
       "dtype: int64"
      ]
     },
     "execution_count": 23,
     "metadata": {},
     "output_type": "execute_result"
    }
   ],
   "source": [
    "df_all.isna().sum()"
   ]
  },
  {
   "cell_type": "code",
   "execution_count": 24,
   "id": "0c954df9",
   "metadata": {
    "scrolled": false
   },
   "outputs": [
    {
     "data": {
      "text/html": [
       "<div>\n",
       "<style scoped>\n",
       "    .dataframe tbody tr th:only-of-type {\n",
       "        vertical-align: middle;\n",
       "    }\n",
       "\n",
       "    .dataframe tbody tr th {\n",
       "        vertical-align: top;\n",
       "    }\n",
       "\n",
       "    .dataframe thead th {\n",
       "        text-align: right;\n",
       "    }\n",
       "</style>\n",
       "<table border=\"1\" class=\"dataframe\">\n",
       "  <thead>\n",
       "    <tr style=\"text-align: right;\">\n",
       "      <th></th>\n",
       "      <th>OpenDate</th>\n",
       "      <th>CloseDate</th>\n",
       "      <th>Id</th>\n",
       "      <th>Title</th>\n",
       "      <th>Location</th>\n",
       "      <th>Company</th>\n",
       "      <th>ContractType</th>\n",
       "      <th>ContractTime</th>\n",
       "      <th>Category</th>\n",
       "      <th>Salary</th>\n",
       "      <th>SourceName</th>\n",
       "    </tr>\n",
       "  </thead>\n",
       "  <tbody>\n",
       "    <tr>\n",
       "      <th>29582</th>\n",
       "      <td>20120412T120000</td>\n",
       "      <td>20120512T120000</td>\n",
       "      <td>68360453</td>\n",
       "      <td>Senior Project Manager  ecommerce  London  To ...</td>\n",
       "      <td>East Sheen</td>\n",
       "      <td>Parallel Consulting</td>\n",
       "      <td>NaN</td>\n",
       "      <td>permanent</td>\n",
       "      <td>IT Jobs</td>\n",
       "      <td>57500</td>\n",
       "      <td>cwjobs.co.uk</td>\n",
       "    </tr>\n",
       "    <tr>\n",
       "      <th>40675</th>\n",
       "      <td>20130626T000000</td>\n",
       "      <td>20130825T000000</td>\n",
       "      <td>69550905</td>\n",
       "      <td>Technical Engineer Birmingham</td>\n",
       "      <td>Birmingham</td>\n",
       "      <td>British Gas + Dyno Group</td>\n",
       "      <td>full_time</td>\n",
       "      <td>NaN</td>\n",
       "      <td>Engineering Jobs</td>\n",
       "      <td>27966</td>\n",
       "      <td>Jobcentre Plus</td>\n",
       "    </tr>\n",
       "    <tr>\n",
       "      <th>27557</th>\n",
       "      <td>20130206T120000</td>\n",
       "      <td>20130308T120000</td>\n",
       "      <td>70655610</td>\n",
       "      <td>PA/ HR Admin  Trendy Creative agency</td>\n",
       "      <td>Central London</td>\n",
       "      <td>IMPACT CREATIVE RECRUITMENT</td>\n",
       "      <td>full_time</td>\n",
       "      <td>permanent</td>\n",
       "      <td>PR, Advertising &amp; Marketing Jobs</td>\n",
       "      <td>24500</td>\n",
       "      <td>jobs.guardian.co.uk</td>\n",
       "    </tr>\n",
       "    <tr>\n",
       "      <th>8473</th>\n",
       "      <td>20130122T150000</td>\n",
       "      <td>20130422T150000</td>\n",
       "      <td>69591521</td>\n",
       "      <td>Head of Marketing PR Comms &amp; Marketing</td>\n",
       "      <td>South East London</td>\n",
       "      <td>Temps On Line Ltd</td>\n",
       "      <td>None</td>\n",
       "      <td>permanent</td>\n",
       "      <td>PR, Advertising &amp; Marketing Jobs</td>\n",
       "      <td>35000</td>\n",
       "      <td>totaljobs.com</td>\n",
       "    </tr>\n",
       "  </tbody>\n",
       "</table>\n",
       "</div>"
      ],
      "text/plain": [
       "              OpenDate        CloseDate        Id  \\\n",
       "29582  20120412T120000  20120512T120000  68360453   \n",
       "40675  20130626T000000  20130825T000000  69550905   \n",
       "27557  20130206T120000  20130308T120000  70655610   \n",
       "8473   20130122T150000  20130422T150000  69591521   \n",
       "\n",
       "                                                   Title           Location  \\\n",
       "29582  Senior Project Manager  ecommerce  London  To ...         East Sheen   \n",
       "40675                      Technical Engineer Birmingham         Birmingham   \n",
       "27557               PA/ HR Admin  Trendy Creative agency     Central London   \n",
       "8473              Head of Marketing PR Comms & Marketing  South East London   \n",
       "\n",
       "                           Company ContractType ContractTime  \\\n",
       "29582          Parallel Consulting          NaN    permanent   \n",
       "40675     British Gas + Dyno Group    full_time          NaN   \n",
       "27557  IMPACT CREATIVE RECRUITMENT    full_time    permanent   \n",
       "8473             Temps On Line Ltd         None    permanent   \n",
       "\n",
       "                               Category Salary           SourceName  \n",
       "29582                           IT Jobs  57500         cwjobs.co.uk  \n",
       "40675                  Engineering Jobs  27966       Jobcentre Plus  \n",
       "27557  PR, Advertising & Marketing Jobs  24500  jobs.guardian.co.uk  \n",
       "8473   PR, Advertising & Marketing Jobs  35000        totaljobs.com  "
      ]
     },
     "execution_count": 24,
     "metadata": {},
     "output_type": "execute_result"
    }
   ],
   "source": [
    "df_all.sample(4)"
   ]
  },
  {
   "cell_type": "markdown",
   "id": "30a9c979",
   "metadata": {},
   "source": [
    "<a id='missing-value-company-contrtime-contrtype'></a>\n",
    "\n",
    "### Handle Missing value in columns Company, ContractType, ContractTime"
   ]
  },
  {
   "cell_type": "code",
   "execution_count": 25,
   "id": "7049d4f5",
   "metadata": {},
   "outputs": [],
   "source": [
    "df_to_fix = pd.DataFrame()\n",
    "df_to_fix = df_all[[\"OpenDate\",\"CloseDate\",\"Id\",\"Title\",\"Location\",\"ContractTime\",\"ContractType\",\"Company\",\"Salary\",\"SourceName\",\"Category\"]]"
   ]
  },
  {
   "cell_type": "code",
   "execution_count": 26,
   "id": "894cccc4",
   "metadata": {},
   "outputs": [],
   "source": [
    "# Convert \"-\" to non_specified of columns ContractType and ContracTime\n",
    "write_to_error_list_1('ContractType',\"- value\",df_error,df_to_fix)\n",
    "df_to_fix['ContractType'] = df_to_fix['ContractType'].str.replace(r\"[-]\",\"non_specified\")\n",
    "\n",
    "write_to_error_list_1('ContractTime',\"- value\",df_error,df_to_fix)\n",
    "df_to_fix['ContractTime'] = df_to_fix['ContractTime'].str.replace(r\"[-]\",\"non_specified\")"
   ]
  },
  {
   "cell_type": "code",
   "execution_count": 27,
   "id": "ceb43a3b",
   "metadata": {},
   "outputs": [],
   "source": [
    "# Convert \"NaN\" to non_specified of columns ContractType and ContracTime and Company\n",
    "write_to_error_list_1('Company',\"NaN value\",df_error,df_to_fix)\n",
    "df_to_fix['Company'] = df_to_fix['Company'].fillna(value='non_specified')\n",
    "\n",
    "write_to_error_list_1('ContractType',\"NaN value\",df_error,df_to_fix)\n",
    "df_to_fix['ContractType'] = df_to_fix['ContractType'].fillna(value='non_specified')\n",
    "\n",
    "write_to_error_list_1('ContractTime',\"NaN value\",df_error,df_to_fix)\n",
    "df_to_fix['ContractTime']= df_to_fix['ContractTime'].fillna(value='non_specified')"
   ]
  },
  {
   "cell_type": "code",
   "execution_count": 28,
   "id": "e29c822b",
   "metadata": {},
   "outputs": [
    {
     "data": {
      "text/plain": [
       "array(['full_time', 'non_specified', 'part_time'], dtype=object)"
      ]
     },
     "execution_count": 28,
     "metadata": {},
     "output_type": "execute_result"
    }
   ],
   "source": [
    "# Check if ContractType have uniqe 3 values\n",
    "df_to_fix['ContractType'].unique()"
   ]
  },
  {
   "cell_type": "code",
   "execution_count": 29,
   "id": "d4340a5a",
   "metadata": {},
   "outputs": [
    {
     "data": {
      "text/plain": [
       "array(['permanent', 'contract', 'non_specified'], dtype=object)"
      ]
     },
     "execution_count": 29,
     "metadata": {},
     "output_type": "execute_result"
    }
   ],
   "source": [
    "# Check if ContractTime have uniqe 3 values\n",
    "df_to_fix['ContractTime'].unique()"
   ]
  },
  {
   "cell_type": "code",
   "execution_count": 30,
   "id": "0bb4d403",
   "metadata": {},
   "outputs": [
    {
     "data": {
      "text/plain": [
       "OpenDate           0\n",
       "CloseDate          0\n",
       "Id                 0\n",
       "Title              0\n",
       "Location           0\n",
       "ContractTime       0\n",
       "ContractType       0\n",
       "Company            0\n",
       "Salary          1826\n",
       "SourceName         0\n",
       "Category           0\n",
       "dtype: int64"
      ]
     },
     "execution_count": 30,
     "metadata": {},
     "output_type": "execute_result"
    }
   ],
   "source": [
    "\n",
    "df_to_fix.isnull().sum()"
   ]
  },
  {
   "cell_type": "markdown",
   "id": "1a1ce4e9",
   "metadata": {},
   "source": [
    "<a id='opendate-closedate'></a>\n",
    "\n",
    "### Analysing and cleansing OpenDate and CloseDate column"
   ]
  },
  {
   "cell_type": "code",
   "execution_count": 31,
   "id": "6efffcee",
   "metadata": {},
   "outputs": [],
   "source": [
    "# Replace the T in Open - Close Date to convert it to datetime and write to error list\n",
    "df_to_fix[\"OpenDate\"] = df_to_fix['OpenDate'].str.replace(r\"[T]\",\"\")\n",
    "write_to_error_list_2(\"OpenDate\",\"Invalid character\",df_error,df_all,df_to_fix)\n",
    "\n",
    "df_to_fix[\"CloseDate\"] = df_to_fix['CloseDate'].str.replace(r\"[T]\",\"\")\n",
    "write_to_error_list_2(\"CloseDate\",\"Invalid character\",df_error,df_all,df_to_fix)"
   ]
  },
  {
   "cell_type": "code",
   "execution_count": 32,
   "id": "9429f4d2",
   "metadata": {},
   "outputs": [],
   "source": [
    "# Convert Open - Close Date to DateTime data type\n",
    "df_to_fix[\"OpenDate\"] = pd.to_datetime(df_to_fix[\"OpenDate\"], format = '%Y%m%d%H%M%S%f')\n",
    "df_to_fix[\"CloseDate\"] = pd.to_datetime(df_to_fix[\"CloseDate\"], format = '%Y%m%d%H%M%S%f')"
   ]
  },
  {
   "cell_type": "code",
   "execution_count": 33,
   "id": "0516f205",
   "metadata": {},
   "outputs": [
    {
     "name": "stdout",
     "output_type": "stream",
     "text": [
      "-60\n",
      "-90\n",
      "-90\n",
      "-30\n",
      "-60\n"
     ]
    }
   ],
   "source": [
    "# Check if CloseDate smaller than close date by using CloseDate - OpenDate\n",
    "a = (df_to_fix[\"CloseDate\"] - df_to_fix[\"OpenDate\"]) \n",
    "int_a = a.dt.days\n",
    "for num in int_a:\n",
    "    if num < 0:\n",
    "        print(num)"
   ]
  },
  {
   "cell_type": "markdown",
   "id": "793f5c04",
   "metadata": {},
   "source": [
    "There are some rows that have OpenDate > CloseDate\n",
    "</br> In that case I will swap those value"
   ]
  },
  {
   "cell_type": "code",
   "execution_count": 34,
   "id": "0befc8cd",
   "metadata": {},
   "outputs": [],
   "source": [
    "df_error[\"indexOfdf\"] = df_to_fix['OpenDate'].loc[df_to_fix[\"OpenDate\"] > df_to_fix[\"CloseDate\"]].index\n",
    "\n",
    "# Swap rows when OpenDate > CloseDate\n",
    "df_to_fix['OpenDate'],df_to_fix['CloseDate'] = np.where(df_to_fix['OpenDate']>df_to_fix['CloseDate'],(df_to_fix['CloseDate'],df_to_fix['OpenDate']),(df_to_fix['OpenDate'],df_to_fix['CloseDate']))\n",
    "\n",
    "df_error[\"Id\"] = df_all[\"Id\"].loc[df_error[\"indexOfdf\"]].values\n",
    "df_error[\"ColumnName\"] = \"OpenDate\"\n",
    "df_error[\"Original\"] = df_all[\"OpenDate\"].loc[df_error[\"indexOfdf\"]].values\n",
    "df_error[\"Modified\"] = df_to_fix['OpenDate'].loc[df_error[\"indexOfdf\"]].values\n",
    "df_error[\"ErrorType\"] = \"OpenDate > CloseDate\"\n",
    "df_error[\"Fixxing\"] = \"swap day between OpenDate and CloseDate\"\n",
    "\n",
    "write_error_list_to_csv(df_error)"
   ]
  },
  {
   "cell_type": "code",
   "execution_count": 35,
   "id": "d0b891e2",
   "metadata": {},
   "outputs": [],
   "source": [
    "df_to_fix[\"TotalDate\"] = (df_to_fix['CloseDate'] - df_to_fix['OpenDate'])"
   ]
  },
  {
   "cell_type": "code",
   "execution_count": 36,
   "id": "ad47ba3d",
   "metadata": {},
   "outputs": [],
   "source": [
    "df_to_fix[\"TotalDate\"] = df_to_fix[\"TotalDate\"].dt.days"
   ]
  },
  {
   "cell_type": "code",
   "execution_count": 37,
   "id": "a1966b83",
   "metadata": {},
   "outputs": [],
   "source": [
    "df_to_fix[\"TotalDate\"] = df_to_fix[\"TotalDate\"].loc[df_to_fix[\"TotalDate\"]<0].sum()"
   ]
  },
  {
   "cell_type": "code",
   "execution_count": 38,
   "id": "d2bd4d9f",
   "metadata": {},
   "outputs": [],
   "source": [
    "# Create an average working time for future use\n",
    "df_to_fix['avg_working_time'] = np.nan"
   ]
  },
  {
   "cell_type": "code",
   "execution_count": 39,
   "id": "8d8f58b5",
   "metadata": {},
   "outputs": [],
   "source": [
    "df_to_fix['avg_working_time'] = df_to_fix['avg_working_time'].astype('float')"
   ]
  },
  {
   "cell_type": "code",
   "execution_count": 40,
   "id": "70155860",
   "metadata": {},
   "outputs": [
    {
     "name": "stderr",
     "output_type": "stream",
     "text": [
      "C:\\Users\\baoph\\AppData\\Local\\Temp\\ipykernel_18656\\103410663.py:3: SettingWithCopyWarning: \n",
      "A value is trying to be set on a copy of a slice from a DataFrame\n",
      "\n",
      "See the caveats in the documentation: https://pandas.pydata.org/pandas-docs/stable/user_guide/indexing.html#returning-a-view-versus-a-copy\n",
      "  df_to_fix['avg_working_time'].loc[df_to_fix['ContractType'].str.contains(r\"f.+\")] = 1936.00\n"
     ]
    }
   ],
   "source": [
    "# If ContractType is full time then avg_working_time = 1936.00 per year \n",
    "# (How many hours do people work in a year: Calculation 2021)\n",
    "df_to_fix['avg_working_time'].loc[df_to_fix['ContractType'].str.contains(r\"f.+\")] = 1936.00 "
   ]
  },
  {
   "cell_type": "code",
   "execution_count": 41,
   "id": "d9962403",
   "metadata": {},
   "outputs": [
    {
     "name": "stderr",
     "output_type": "stream",
     "text": [
      "C:\\Users\\baoph\\AppData\\Local\\Temp\\ipykernel_18656\\320079169.py:2: SettingWithCopyWarning: \n",
      "A value is trying to be set on a copy of a slice from a DataFrame\n",
      "\n",
      "See the caveats in the documentation: https://pandas.pydata.org/pandas-docs/stable/user_guide/indexing.html#returning-a-view-versus-a-copy\n",
      "  df_to_fix['avg_working_time'].loc[df_to_fix['ContractType'].str.contains(r\"p.+\")] = 1560.00\n"
     ]
    }
   ],
   "source": [
    "# If ContractType is full time then avg_working_time = 30 * 52 per year (Team, 2021)\n",
    "df_to_fix['avg_working_time'].loc[df_to_fix['ContractType'].str.contains(r\"p.+\")] = 1560.00"
   ]
  },
  {
   "cell_type": "markdown",
   "id": "81fc4f92",
   "metadata": {},
   "source": [
    "<a id='salary'></a>\n",
    "### Analysing and cleansing Salary column"
   ]
  },
  {
   "cell_type": "code",
   "execution_count": 42,
   "id": "aff77211",
   "metadata": {},
   "outputs": [
    {
     "data": {
      "text/plain": [
       "0        28500\n",
       "1        45000\n",
       "2        22000\n",
       "3        40000\n",
       "4        23500\n",
       "         ...  \n",
       "50748    21500\n",
       "50749    16800\n",
       "50750    55000\n",
       "50751    17000\n",
       "50752    18000\n",
       "Name: Salary, Length: 50753, dtype: object"
      ]
     },
     "execution_count": 42,
     "metadata": {},
     "output_type": "execute_result"
    }
   ],
   "source": [
    "df_to_fix[\"Salary\"]"
   ]
  },
  {
   "cell_type": "code",
   "execution_count": 43,
   "id": "64554f7b",
   "metadata": {},
   "outputs": [
    {
     "data": {
      "text/plain": [
       "1826"
      ]
     },
     "execution_count": 43,
     "metadata": {},
     "output_type": "execute_result"
    }
   ],
   "source": [
    "df_to_fix[\"Salary\"].isna().sum()"
   ]
  },
  {
   "cell_type": "markdown",
   "id": "6624962a",
   "metadata": {},
   "source": [
    "Salary is having 1826 rows that contains Nan Values\n",
    "</br> => Filling Nan rows to \"-\" for future use"
   ]
  },
  {
   "cell_type": "code",
   "execution_count": 44,
   "id": "d4e32952",
   "metadata": {},
   "outputs": [],
   "source": [
    "write_to_error_list_1('Salary',\"NaN int value\",df_error,df_to_fix)\n",
    "df_to_fix[\"Salary\"] = df_to_fix[\"Salary\"].fillna(value = \"-\")"
   ]
  },
  {
   "cell_type": "code",
   "execution_count": 45,
   "id": "a07f9082",
   "metadata": {},
   "outputs": [
    {
     "data": {
      "text/plain": [
       "0"
      ]
     },
     "execution_count": 45,
     "metadata": {},
     "output_type": "execute_result"
    }
   ],
   "source": [
    "df_to_fix[\"Salary\"].isna().sum()"
   ]
  },
  {
   "cell_type": "code",
   "execution_count": 46,
   "id": "a9420ce0",
   "metadata": {},
   "outputs": [
    {
     "name": "stdout",
     "output_type": "stream",
     "text": [
      "-\n",
      "27500 to 32500\n",
      "27500  ~  32500\n",
      "22000 ~  27000\n",
      "33500 to 38500\n",
      "35000/year\n",
      "22700  ~  27700\n",
      "40k\n",
      "38500/year\n",
      "27000/year\n",
      "12.87 p/h\n",
      "23420 ~  28420\n",
      "32500  ~  37500\n",
      "30000/year\n",
      "34000perAnnum\n",
      "50000 to 55000\n",
      "32500/year\n",
      "54600/year\n",
      "30000 -  35000\n",
      "27500perAnnum\n",
      "23000perAnnum\n",
      "28000 ~  33000\n",
      "27500 -  32500\n",
      "31500 to 36500\n",
      "35k\n",
      "24k\n",
      "40000perAnnum\n",
      "23500 to 28500\n",
      "36500 ~  41500\n",
      "24000perAnnum\n",
      "28878/year\n",
      "31625perAnnum\n",
      "25500 to 30500\n",
      "25k\n",
      "32750perAnnum\n",
      "30000perAnnum\n",
      "36000perAnnum\n",
      "26k\n",
      "26000/year\n",
      "39500 -  44500\n",
      "22k\n",
      "52500 to 57500\n",
      "18000perAnnum\n",
      "22500perAnnum\n",
      "32500 -  37500\n",
      "35000 to 40000\n",
      "37500perAnnum\n",
      "11.97 per hour\n",
      "35000perAnnum\n",
      "26500/year\n",
      "42500 to 47500\n",
      "18500 ~  23500\n",
      "19000/year\n",
      "22500 to 27500\n",
      "35000 -  40000\n",
      "38000perAnnum\n",
      "25000 ~  30000\n",
      "32000  ~  37000\n",
      "27000 to 32000\n",
      "32500perAnnum\n",
      "25000/year\n",
      "42500perAnnum\n",
      "29k\n",
      "23500 -  28500\n",
      "23000 to 28000\n",
      "25000perAnnum\n",
      "40000/year\n",
      "42k\n",
      "34500  ~  39500\n",
      "30000 to 35000\n",
      "27840perAnnum\n",
      "20200perAnnum\n",
      "31750/year\n",
      "42500/year\n",
      "12.45 per hour\n",
      "37500 to 42500\n",
      "47500 ~  52500\n",
      "37500 ~  42500\n",
      "30500  ~  35500\n",
      "40000 to 45000\n",
      "20000/year\n",
      "37000perAnnum\n",
      "37500 -  42500\n",
      "47500perAnnum\n",
      "32500 to 37500\n",
      "52500perAnnum\n",
      "47500  ~  52500\n",
      "36500 -  41500\n",
      "25000 -  30000\n",
      "47500/year\n",
      "30500 to 35500\n",
      "55000perAnnum\n",
      "28000perAnnum\n",
      "37500/year\n",
      "40000  ~  45000\n",
      "38000/year\n",
      "50000perAnnum\n",
      "50000/year\n",
      "28500 -  33500\n",
      "38000 to 43000\n",
      "23208 to 28208\n",
      "21500 to 26500\n",
      "22000  ~  27000\n",
      "32000perAnnum\n",
      "28k\n",
      "11.72 p/h\n",
      "26000 to 31000\n",
      "23500 ~  28500\n",
      "28300 ~  33300\n",
      "20500 to 25500\n",
      "20500/year\n",
      "18500perAnnum\n",
      "22400/year\n",
      "21000  ~  26000\n",
      "23000/year\n",
      "20000 to 25000\n",
      "21000/year\n",
      "17250 to 22250\n",
      "21500  ~  26500\n",
      "26000perAnnum\n",
      "20k\n",
      "24000 to 29000\n",
      "18000/year\n",
      "23500perAnnum\n",
      "15000  ~  20000\n",
      "19000perAnnum\n",
      "45000perAnnum\n",
      "29900 to 34900\n",
      "30900/year\n",
      "25500 -  30500\n",
      "36500/year\n",
      "50k\n",
      "28000 to 33000\n",
      "31500perAnnum\n",
      "10.92 per hour\n",
      "22750  ~  27750\n",
      "16.3 per hour\n",
      "33000 to 38000\n",
      "14.25 p/h\n",
      "27500/year\n",
      "26400/year\n",
      "33500/year\n",
      "31500 ~  36500\n",
      "29900 -  34900\n",
      "33k\n",
      "25500perAnnum\n",
      "25920/year\n",
      "22700 ~  27700\n",
      "30k\n",
      "18240perAnnum\n",
      "45000 to 50000\n",
      "25000 to 30000\n",
      "32k\n",
      "38k\n",
      "42500 -  47500\n",
      "26300 -  31300\n",
      "39k\n",
      "23250perAnnum\n",
      "31625 to 36625\n",
      "24070 -  29070\n",
      "27000perAnnum\n",
      "13.33 p/h\n",
      "31000perAnnum\n",
      "29000perAnnum\n",
      "23040/year\n",
      "23900  ~  28900\n",
      "20500 ~  25500\n",
      "11.14 per hour\n",
      "20400/year\n",
      "21500 ~  26500\n",
      "45840/year\n",
      "35000  ~  40000\n",
      "40500/year\n",
      "30500perAnnum\n",
      "47500 to 52500\n",
      "39000perAnnum\n",
      "12.73 p/h\n",
      "32000/year\n",
      "28800/year\n",
      "29900 ~  34900\n",
      "51500/year\n",
      "22000 -  27000\n",
      "24338perAnnum\n",
      "24500perAnnum\n",
      "36480perAnnum\n",
      "23900 ~  28900\n",
      "21489 to 26489\n",
      "22867perAnnum\n",
      "21187 ~  26187\n",
      "28500 to 33500\n",
      "28800perAnnum\n",
      "31387  ~  36387\n",
      "24460perAnnum\n",
      "20000 ~  25000\n",
      "12.53 per hour\n",
      "13.1 p/h\n",
      "11.25 per hour\n",
      "11.78 p/h\n",
      "29500/year\n",
      "30000  ~  35000\n",
      "13.89 per hour\n",
      "24182/year\n",
      "30500.0\n",
      "38000.0\n",
      "35000.0\n",
      "41500.0\n",
      "32500.0\n",
      "45000.0\n",
      "25000.0\n",
      "25500.0\n",
      "22000.0\n",
      "31000.0\n",
      "27000.0\n",
      "52500.0\n",
      "19000.0\n",
      "29000.0\n",
      "55000.0\n",
      "26500.0\n",
      "42000.0\n",
      "30000.0\n",
      "60000.0\n",
      "22500.0\n",
      "27500.0\n",
      "18000.0\n",
      "15750.0\n",
      "31500.0\n",
      "46000.0\n",
      "50000.0\n",
      "21000.0\n",
      "20000.0\n",
      "36755.0\n",
      "37000.0\n",
      "23500.0\n",
      "38500.0\n",
      "32000.0\n",
      "12500.0\n",
      "47500.0\n",
      "33000.0\n",
      "15000.0\n",
      "42500.0\n",
      "39000.0\n",
      "17500.0\n",
      "26000.0\n",
      "21500.0\n",
      "35500.0\n",
      "40000.0\n",
      "54000.0\n",
      "29500.0\n",
      "64000.0\n",
      "36000.0\n",
      "38400.0\n",
      "57500.0\n",
      "33500.0\n",
      "14000.0\n",
      "28000.0\n",
      "43500.0\n",
      "24000.0\n",
      "46800.0\n",
      "18500.0\n",
      "24500.0\n",
      "51000.0\n",
      "23000.0\n",
      "20500.0\n",
      "37500.0\n",
      "45000/year\n",
      "26300 to 31300\n",
      "26900 -  31900\n",
      "37500  ~  42500\n",
      "19000 to 24000\n",
      "28500  ~  33500\n",
      "48500 ~  53500\n",
      "47500 -  52500\n",
      "34560/year\n",
      "30720perAnnum\n",
      "35308perAnnum\n",
      "30861 to 35861\n",
      "27k\n",
      "27750 ~  32750\n",
      "11.4 p/h\n",
      "13.78 p/h\n",
      "17500 to 22500\n",
      "55k\n",
      "36000 to 41000\n",
      "41000/year\n",
      "45000  ~  50000\n",
      "30000 ~  35000\n",
      "31k\n",
      "29000/year\n",
      "24400/year\n",
      "39500perAnnum\n",
      "16.76 per hour\n",
      "35304 to 40304\n",
      "34999/year\n",
      "11.63 per hour\n",
      "18750.0\n",
      "29925.0\n",
      "24233.0\n",
      "14750.0\n",
      "10000.0\n",
      "16250.0\n",
      "17000.0\n",
      "67500.0\n",
      "27600.0\n",
      "28500.0\n",
      "25750.0\n",
      "19500.0\n",
      "30650.0\n",
      "47151.0\n",
      "13750.0\n",
      "18825.0\n",
      "24032.0\n",
      "34500.0\n",
      "23231.0\n",
      "19450.0\n",
      "75000.0\n",
      "72500.0\n",
      "24494.0\n",
      "26004.0\n",
      "43000.0\n",
      "49587.0\n",
      "25384.0\n",
      "21479.0\n",
      "23948.0\n",
      "25951.0\n",
      "51070.0\n",
      "32919.0\n",
      "13726.0\n",
      "30060.0\n",
      "30424.0\n",
      "25156.0\n",
      "13000.0\n",
      "26460.0\n",
      "35519.0\n",
      "24873.0\n",
      "16000.0\n",
      "25548.0\n",
      "32593.0\n",
      "13590.0\n",
      "42736.0\n",
      "28161.0\n",
      "31281.0\n",
      "23382.0\n",
      "41406.0\n",
      "27730.0\n",
      "40589.0\n",
      "21383.0\n",
      "24766.0\n",
      "39585.0\n",
      "18005.0\n",
      "35602.0\n",
      "40452.0\n",
      "33903.0\n",
      "40994.0\n",
      "26791.0\n",
      "16800.0\n",
      "31020.0\n",
      "33287.0\n",
      "23127.0\n",
      "23074.0\n",
      "12000.0\n",
      "34356.0\n",
      "15590.0\n",
      "44323.0\n",
      "41249.0\n",
      "26775.0\n",
      "43600.0\n",
      "38636.0\n",
      "25582.0\n",
      "30685.0\n",
      "39926.0\n",
      "27345.0\n",
      "34635.0\n",
      "13811.0\n",
      "38860.0\n",
      "27094.0\n",
      "33965.0\n",
      "34223.0\n",
      "29139.0\n",
      "27682.0\n",
      "34764.0\n",
      "33361.0\n",
      "45941.0\n",
      "45294.0\n",
      "19906.0\n",
      "36377.0\n",
      "26900 ~  31900\n",
      "68400.0\n",
      "45120.0\n",
      "90000.0\n",
      "87600.0\n",
      "34560.0\n",
      "27840.0\n",
      "49920.0\n",
      "13200.0\n",
      "31680.0\n",
      "84000.0\n",
      "18240.0\n",
      "32640.0\n",
      "52800.0\n",
      "40320.0\n",
      "57600.0\n",
      "36480.0\n",
      "37440.0\n",
      "33600.0\n",
      "47040.0\n",
      "48000.0\n",
      "66000.0\n",
      "28800.0\n",
      "76800.0\n",
      "42240.0\n",
      "43200.0\n",
      "59520.0\n",
      "13400.0\n",
      "79200.0\n",
      "50880.0\n",
      "81000.0\n",
      "39360.0\n",
      "37200.0\n",
      "17400.0\n",
      "44160.0\n",
      "57000.0\n",
      "10500.0\n",
      "67200.0\n",
      "56640.0\n",
      "25200.0\n",
      "49000.0\n",
      "22080.0\n",
      "26880.0\n",
      "36500.0\n",
      "46080.0\n",
      "41280.0\n",
      "26875.0\n",
      "73920.0\n",
      "92400.0\n",
      "49440.0\n",
      "55680.0\n",
      "28750.0\n",
      "48960.0\n",
      "30500 ~  35500\n",
      "26500 -  31500\n",
      "26880perAnnum\n",
      "44000/year\n",
      "31000/year\n",
      "25500/year\n",
      "13.17 p/h\n",
      "62500.0\n",
      "45772.0\n",
      "65000.0\n",
      "41611.0\n",
      "44999.0\n",
      "44500.0\n",
      "32800.0\n",
      "23466.0\n",
      "51732.0\n",
      "28188.0\n",
      "53550.0\n",
      "34661.0\n",
      "44296.0\n",
      "50069.0\n",
      "24999.0\n",
      "11884.0\n",
      "35500 to 40500\n",
      "29500 to 34500\n",
      "30750.0\n",
      "39194.0\n",
      "6501.0\n",
      "26570.0\n",
      "6696.0\n",
      "44400.0\n",
      "5766.0\n",
      "5005.0\n",
      "5428.0\n",
      "6695.0\n",
      "5106.0\n",
      "22195.0\n",
      "27620.0\n",
      "26252.0\n",
      "21120.0\n",
      "29858.0\n",
      "23443.0\n",
      "36077.0\n",
      "54265.0\n",
      "24960.0\n",
      "28004.0\n",
      "41463.0\n",
      "39682.0\n",
      "35926.0\n",
      "39015.0\n",
      "18720.0\n",
      "49500.0\n",
      "34000.0\n"
     ]
    }
   ],
   "source": [
    "# Check if Salary is not a chain of digits\n",
    "pattern = r\"[^\\d+]\"\n",
    "df_incorrect_num = df_to_fix[\"Salary\"].loc[df_to_fix[\"Salary\"].str.contains(pattern,na=False)]\n",
    "for rows in (df_incorrect_num.unique()):\n",
    "    print(rows)"
   ]
  },
  {
   "cell_type": "markdown",
   "id": "d555d141",
   "metadata": {},
   "source": [
    "The row of salary is contained some weird character \n",
    "\n",
    "- 12.87 p/h\n",
    "- 34000perAnnum\n",
    "- 30000/year\n",
    "- 11.97 per hour\n",
    "- 40k\n",
    "- 27500 to 32500\n",
    "- 26900 ~  31900\n",
    "- 30000 -  35000\n",
    "- -\n",
    "- etc..."
   ]
  },
  {
   "cell_type": "markdown",
   "id": "7557d1d7",
   "metadata": {},
   "source": [
    "#### Replace in salary column rows that have k to 000"
   ]
  },
  {
   "cell_type": "code",
   "execution_count": 47,
   "id": "790f7136",
   "metadata": {},
   "outputs": [],
   "source": [
    "df_to_fix[\"Salary_range_1\"] = df_to_fix['Salary'].str.replace(r\"[k]\",\"000\")\n",
    "\n",
    "df_error[\"indexOfdf\"] = df_all[\"Salary\"].loc[df_all[\"Salary\"].str.contains(r'\\d+k',na=False)].index\n",
    "df_error[\"Id\"] = df_all[\"Id\"].loc[df_error[\"indexOfdf\"]].values\n",
    "df_error[\"ColumnName\"] = \"Salary\"\n",
    "df_error[\"Original\"] = df_all[\"Salary\"].loc[df_error[\"indexOfdf\"]].values\n",
    "df_error[\"Modified\"] = df_to_fix['Salary_range_1'].loc[df_error[\"indexOfdf\"]].values\n",
    "df_error[\"ErrorType\"] = \"k behind num\"\n",
    "df_error[\"Fixxing\"] = \"convert k to 000\"\n",
    "\n",
    "write_error_list_to_csv(df_error)"
   ]
  },
  {
   "cell_type": "code",
   "execution_count": 48,
   "id": "69d91e64",
   "metadata": {},
   "outputs": [
    {
     "name": "stdout",
     "output_type": "stream",
     "text": [
      "     Salary Salary_range_1\n",
      "1967    40k          40000\n"
     ]
    }
   ],
   "source": [
    "# Double check if its converted correctly\n",
    "print(df_to_fix[[\"Salary\",\"Salary_range_1\"]].loc[[1967]])"
   ]
  },
  {
   "cell_type": "markdown",
   "id": "7d1e4ca9",
   "metadata": {},
   "source": [
    "#### Dealing in salary column (-|to|~) character"
   ]
  },
  {
   "cell_type": "markdown",
   "id": "53eb6e7d",
   "metadata": {},
   "source": [
    "In this case I will seperate the the column that contain -|to|~ character in the middle of 2 num into 1 front nums and 1 back nums. Then I will calculate the mean of that 2 number. For example: If we have 27500 to 32500. It will (27500 + 32500)/2 = 30000 "
   ]
  },
  {
   "cell_type": "code",
   "execution_count": 49,
   "id": "742f097f",
   "metadata": {},
   "outputs": [
    {
     "name": "stdout",
     "output_type": "stream",
     "text": [
      "30000.0\n",
      "30000.0\n",
      "24500.0\n",
      "36000.0\n",
      "25200.0\n",
      "25920.0\n",
      "35000.0\n",
      "52500.0\n",
      "32500.0\n",
      "30500.0\n",
      "30000.0\n",
      "34000.0\n",
      "26000.0\n",
      "39000.0\n",
      "28000.0\n",
      "42000.0\n",
      "28000.0\n",
      "55000.0\n",
      "35000.0\n",
      "37500.0\n",
      "45000.0\n",
      "21000.0\n",
      "25000.0\n",
      "37500.0\n",
      "27500.0\n",
      "34500.0\n",
      "29500.0\n",
      "26000.0\n",
      "25500.0\n",
      "37000.0\n",
      "32500.0\n",
      "40000.0\n",
      "50000.0\n",
      "40000.0\n",
      "33000.0\n",
      "42500.0\n",
      "32500.0\n",
      "40000.0\n",
      "35000.0\n",
      "50000.0\n",
      "39000.0\n",
      "27500.0\n",
      "35000.0\n",
      "45000.0\n",
      "33000.0\n",
      "35000.0\n",
      "40000.0\n",
      "42500.0\n",
      "35000.0\n",
      "31000.0\n",
      "21000.0\n",
      "40500.0\n",
      "25708.0\n",
      "24000.0\n",
      "24500.0\n",
      "28500.0\n",
      "37500.0\n",
      "26000.0\n",
      "30800.0\n",
      "37500.0\n",
      "23000.0\n",
      "23500.0\n",
      "22500.0\n",
      "22500.0\n",
      "19750.0\n",
      "24000.0\n",
      "26500.0\n",
      "26000.0\n",
      "17500.0\n",
      "32400.0\n",
      "28000.0\n",
      "40000.0\n",
      "30500.0\n",
      "40000.0\n",
      "25250.0\n",
      "32500.0\n",
      "35500.0\n",
      "26500.0\n",
      "24000.0\n",
      "34000.0\n",
      "32400.0\n",
      "37500.0\n",
      "36000.0\n",
      "25200.0\n",
      "40000.0\n",
      "40000.0\n",
      "35000.0\n",
      "47500.0\n",
      "27500.0\n",
      "35000.0\n",
      "45000.0\n",
      "28800.0\n",
      "40000.0\n",
      "32500.0\n",
      "34125.0\n",
      "30000.0\n",
      "26570.0\n",
      "30000.0\n",
      "30000.0\n",
      "30000.0\n",
      "30000.0\n",
      "26400.0\n",
      "23000.0\n",
      "24000.0\n",
      "35000.0\n",
      "50000.0\n",
      "30000.0\n",
      "37500.0\n",
      "52500.0\n",
      "45000.0\n",
      "35000.0\n",
      "50000.0\n",
      "50000.0\n",
      "30000.0\n",
      "39000.0\n",
      "50000.0\n",
      "32400.0\n",
      "45000.0\n",
      "24500.0\n",
      "26400.0\n",
      "23989.0\n",
      "23687.0\n",
      "31000.0\n",
      "33887.0\n",
      "22500.0\n",
      "34500.0\n",
      "24500.0\n",
      "32500.0\n",
      "26500.0\n",
      "45000.0\n",
      "28800.0\n",
      "29400.0\n",
      "40000.0\n",
      "21500.0\n",
      "31000.0\n",
      "23000.0\n",
      "28000.0\n",
      "51000.0\n",
      "50000.0\n",
      "50000.0\n",
      "25000.0\n",
      "30000.0\n",
      "34000.0\n",
      "33361.0\n",
      "26000.0\n",
      "30250.0\n",
      "20000.0\n",
      "32500.0\n",
      "42500.0\n",
      "38500.0\n",
      "37500.0\n",
      "45000.0\n",
      "32500.0\n",
      "50000.0\n",
      "47500.0\n",
      "30000.0\n",
      "32500.0\n",
      "28800.0\n",
      "36000.0\n",
      "37500.0\n",
      "30000.0\n",
      "50000.0\n",
      "39000.0\n",
      "40000.0\n",
      "37804.0\n",
      "39000.0\n",
      "30000.0\n",
      "35500.0\n",
      "26500.0\n",
      "37500.0\n",
      "37000.0\n",
      "30000.0\n",
      "29400.0\n",
      "52500.0\n",
      "25000.0\n",
      "33000.0\n",
      "32500.0\n",
      "29000.0\n",
      "31000.0\n",
      "30000.0\n",
      "30000.0\n",
      "40500.0\n",
      "30000.0\n",
      "37000.0\n",
      "24000.0\n",
      "50000.0\n",
      "35000.0\n",
      "27500.0\n",
      "38000.0\n",
      "32000.0\n"
     ]
    }
   ],
   "source": [
    "tmp_rows = []\n",
    "pattern = r'(\\d+)(\\s+(?:to|-|~)\\s+\\d+)'\n",
    "for rows in df_to_fix[\"Salary_range_1\"]: \n",
    "    if re.match(pattern,rows):\n",
    "        rows = str(int(re.sub(\"(\\s+)(to|-|~)+\\s+.+\",\"\",rows)) + int(re.sub(r\"(\\d+)(\\s+)(to|-|~)+\\s+\",\"\",rows)))\n",
    "        rows = str(float(int(rows)/2))\n",
    "        print(rows)\n",
    "        \n",
    "    tmp_rows.append(rows)\n",
    "# Create a data frame to put the result rows in then merge with the df_to_fix\n",
    "new_df_1 = pd.DataFrame(tmp_rows, columns = [\"Salary_range\"])\n"
   ]
  },
  {
   "cell_type": "code",
   "execution_count": 50,
   "id": "fbeaac9b",
   "metadata": {},
   "outputs": [
    {
     "data": {
      "text/plain": [
       "Salary_range    50753\n",
       "dtype: int64"
      ]
     },
     "execution_count": 50,
     "metadata": {},
     "output_type": "execute_result"
    }
   ],
   "source": [
    "new_df_1.count()"
   ]
  },
  {
   "cell_type": "code",
   "execution_count": 51,
   "id": "dbec201f",
   "metadata": {},
   "outputs": [
    {
     "data": {
      "text/plain": [
       "Salary_range    0\n",
       "dtype: int64"
      ]
     },
     "execution_count": 51,
     "metadata": {},
     "output_type": "execute_result"
    }
   ],
   "source": [
    "new_df_1.isna().sum()"
   ]
  },
  {
   "cell_type": "code",
   "execution_count": 52,
   "id": "f18fd334",
   "metadata": {},
   "outputs": [],
   "source": [
    "df_to_fix = df_to_fix.drop(columns=['Salary_range_1'], axis=1)"
   ]
  },
  {
   "cell_type": "code",
   "execution_count": 53,
   "id": "78f96891",
   "metadata": {},
   "outputs": [
    {
     "name": "stderr",
     "output_type": "stream",
     "text": [
      "C:\\Users\\baoph\\AppData\\Local\\Temp\\ipykernel_18656\\4095139159.py:3: UserWarning: This pattern is interpreted as a regular expression, and has match groups. To actually get the groups, use str.extract.\n",
      "  df_error[\"indexOfdf\"] = df_all[\"Salary\"].loc[df_all[\"Salary\"].str.contains(r'(\\d+)(\\s+(?:to|-|~)\\s+\\d+)',na=False)].index\n"
     ]
    }
   ],
   "source": [
    "df_to_fix = df_to_fix.join(new_df_1['Salary_range'])\n",
    "\n",
    "df_error[\"indexOfdf\"] = df_all[\"Salary\"].loc[df_all[\"Salary\"].str.contains(r'(\\d+)(\\s+(?:to|-|~)\\s+\\d+)',na=False)].index\n",
    "df_error[\"Id\"] = df_all[\"Id\"].loc[df_error[\"indexOfdf\"]].values\n",
    "df_error[\"ColumnName\"] = \"Salary\"\n",
    "df_error[\"Original\"] = df_all[\"Salary\"].loc[df_error[\"indexOfdf\"]].values\n",
    "df_error[\"Modified\"] = df_to_fix['Salary_range'].loc[df_error[\"indexOfdf\"]].values\n",
    "df_error[\"ErrorType\"] = \"to,-,~ between 2 num\"\n",
    "df_error[\"Fixxing\"] = \"remove middle character and calculate mean of 2 nums\"\n",
    "\n",
    "write_error_list_to_csv(df_error)"
   ]
  },
  {
   "cell_type": "code",
   "execution_count": 54,
   "id": "0b84fcaf",
   "metadata": {},
   "outputs": [],
   "source": [
    "df_error[\"indexOfdf\"] = df_to_fix[\"Salary_range\"].loc[df_to_fix[\"Salary_range\"].str.contains('-',na=False)].index\n",
    "\n",
    "df_to_fix[\"Salary_range\"] = df_to_fix['Salary_range'].str.replace(r\"[-]\",\"\")\n",
    "\n",
    "df_error[\"Id\"] = df_to_fix[\"Id\"].loc[df_error[\"indexOfdf\"]].values\n",
    "df_error[\"ColumnName\"] = \"Salary\"\n",
    "df_error[\"Original\"] = df_all[\"Salary\"].loc[df_error[\"indexOfdf\"]].values\n",
    "df_error[\"Modified\"] = df_to_fix['Salary_range'].loc[df_error[\"indexOfdf\"]].values\n",
    "df_error[\"ErrorType\"] = \"- value still occur\"\n",
    "df_error[\"Fixxing\"] = \"replace - value to white space\"\n",
    "\n",
    "write_error_list_to_csv(df_error)"
   ]
  },
  {
   "cell_type": "code",
   "execution_count": 55,
   "id": "b9fbcfb1",
   "metadata": {},
   "outputs": [
    {
     "data": {
      "text/html": [
       "<div>\n",
       "<style scoped>\n",
       "    .dataframe tbody tr th:only-of-type {\n",
       "        vertical-align: middle;\n",
       "    }\n",
       "\n",
       "    .dataframe tbody tr th {\n",
       "        vertical-align: top;\n",
       "    }\n",
       "\n",
       "    .dataframe thead th {\n",
       "        text-align: right;\n",
       "    }\n",
       "</style>\n",
       "<table border=\"1\" class=\"dataframe\">\n",
       "  <thead>\n",
       "    <tr style=\"text-align: right;\">\n",
       "      <th></th>\n",
       "      <th>Salary</th>\n",
       "      <th>Salary_range</th>\n",
       "    </tr>\n",
       "  </thead>\n",
       "  <tbody>\n",
       "    <tr>\n",
       "      <th>19134</th>\n",
       "      <td>-</td>\n",
       "      <td></td>\n",
       "    </tr>\n",
       "  </tbody>\n",
       "</table>\n",
       "</div>"
      ],
      "text/plain": [
       "      Salary Salary_range\n",
       "19134      -             "
      ]
     },
     "execution_count": 55,
     "metadata": {},
     "output_type": "execute_result"
    }
   ],
   "source": [
    "df_to_fix[[\"Salary\",\"Salary_range\"]].loc[[19134]]"
   ]
  },
  {
   "cell_type": "markdown",
   "id": "59757a46",
   "metadata": {},
   "source": [
    "#### Replace in salary column perAnnum , /year  to white space"
   ]
  },
  {
   "cell_type": "code",
   "execution_count": 56,
   "id": "ef4d9255",
   "metadata": {},
   "outputs": [],
   "source": [
    "df_error[\"indexOfdf\"] = df_to_fix[\"Salary_range\"].loc[df_to_fix[\"Salary_range\"].str.contains(r'per[aA]nnum',na=False)].index\n",
    "\n",
    "df_to_fix[\"Salary_range\"] = df_to_fix['Salary_range'].str.replace(r\"[perAnnum]\",\"\")\n",
    "\n",
    "df_error[\"Id\"] = df_to_fix[\"Id\"].loc[df_error[\"indexOfdf\"]].values\n",
    "df_error[\"ColumnName\"] = \"Salary\"\n",
    "df_error[\"Original\"] = df_all[\"Salary\"].loc[df_error[\"indexOfdf\"]].values\n",
    "df_error[\"Modified\"] = df_to_fix['Salary_range'].loc[df_error[\"indexOfdf\"]].values\n",
    "df_error[\"ErrorType\"] = \"perAanum in num chain\"\n",
    "df_error[\"Fixxing\"] = \"replace perAanum value to white space\"\n",
    "\n",
    "write_error_list_to_csv(df_error)"
   ]
  },
  {
   "cell_type": "code",
   "execution_count": 57,
   "id": "47714fe8",
   "metadata": {},
   "outputs": [],
   "source": [
    "df_error[\"indexOfdf\"] = df_to_fix[\"Salary_range\"].loc[df_to_fix[\"Salary_range\"].str.contains(r\"[/year]\",na=False)].index\n",
    "\n",
    "df_to_fix[\"Salary_range\"] = df_to_fix['Salary_range'].str.replace(r\"[/year]\",\"\")\n",
    "\n",
    "df_error[\"Id\"] = df_to_fix[\"Id\"].loc[df_error[\"indexOfdf\"]].values\n",
    "df_error[\"ColumnName\"] = \"Salary\"\n",
    "df_error[\"Original\"] = df_all[\"Salary\"].loc[df_error[\"indexOfdf\"]].values\n",
    "df_error[\"Modified\"] = df_to_fix['Salary_range'].loc[df_error[\"indexOfdf\"]].values\n",
    "df_error[\"ErrorType\"] = \"[/Yyear] character in num chain\"\n",
    "df_error[\"Fixxing\"] = \"replace [/Yyear] character value to white space\"\n",
    "\n",
    "write_error_list_to_csv(df_error)"
   ]
  },
  {
   "cell_type": "markdown",
   "id": "7978c55b",
   "metadata": {},
   "source": [
    "When I convert to Float it's said that: \"Unable to parse string \"12.87 ph\" at position 2673\""
   ]
  },
  {
   "cell_type": "code",
   "execution_count": 58,
   "id": "4c065fab",
   "metadata": {},
   "outputs": [
    {
     "name": "stdout",
     "output_type": "stream",
     "text": [
      "                OpenDate           CloseDate        Id               Title  \\\n",
      "2673 2012-04-09 15:00:00 2012-05-09 15:00:00  71679456  Bank Custody Nurse   \n",
      "\n",
      "     Location   ContractTime ContractType Company     Salary     SourceName  \\\n",
      "2673   Exeter  non_specified    part_time   Serco  12.87 p/h  totaljobs.com   \n",
      "\n",
      "                       Category  TotalDate  avg_working_time Salary_range  \n",
      "2673  Healthcare & Nursing Jobs          0            1560.0      12.87 h  \n"
     ]
    }
   ],
   "source": [
    "print(df_to_fix.loc[[2673]])"
   ]
  },
  {
   "cell_type": "markdown",
   "id": "c5e263c6",
   "metadata": {},
   "source": [
    "#### Dealing with per hour or p/h salary values"
   ]
  },
  {
   "cell_type": "markdown",
   "id": "6a453f90",
   "metadata": {},
   "source": [
    "In this case I will remove the character behind the number and multiple it to average working time column that I have created above. "
   ]
  },
  {
   "cell_type": "code",
   "execution_count": 59,
   "id": "089a7f14",
   "metadata": {},
   "outputs": [
    {
     "name": "stderr",
     "output_type": "stream",
     "text": [
      "C:\\Users\\baoph\\AppData\\Local\\Temp\\ipykernel_18656\\3951888886.py:3: UserWarning: This pattern is interpreted as a regular expression, and has match groups. To actually get the groups, use str.extract.\n",
      "  df_error[\"indexOfdf\"] = df_to_fix[\"Salary_range\"].loc[df_to_fix[\"Salary_range\"].str.contains(r\"\\d+(.*|\\d+)\\s+\\w+\",na=False)].index\n"
     ]
    }
   ],
   "source": [
    "tmp_rows = []\n",
    "pattern = r\"\\d+(.*|\\d+)\\s+\\w+\"\n",
    "df_error[\"indexOfdf\"] = df_to_fix[\"Salary_range\"].loc[df_to_fix[\"Salary_range\"].str.contains(r\"\\d+(.*|\\d+)\\s+\\w+\",na=False)].index\n",
    "\n",
    "for rows in df_to_fix[\"Salary_range\"]:\n",
    "#     print(rows)\n",
    "    if re.match(pattern,rows):\n",
    "#         print(rows)\n",
    "        rows = str(float(re.sub(\"\\s+.+\",\"\",rows)) * float(df_to_fix[\"avg_working_time\"].loc[df_to_fix[\"Salary_range\"] == rows]))\n",
    "    \n",
    "    tmp_rows.append(rows)\n",
    "new_df = pd.DataFrame(tmp_rows, columns = [\"Salary_range\"])"
   ]
  },
  {
   "cell_type": "code",
   "execution_count": 60,
   "id": "8ba29d91",
   "metadata": {},
   "outputs": [],
   "source": [
    "df_to_fix = df_to_fix.drop(columns=[\"Salary_range\"], axis = 1)"
   ]
  },
  {
   "cell_type": "code",
   "execution_count": 61,
   "id": "a90fa317",
   "metadata": {},
   "outputs": [],
   "source": [
    "df_to_fix = df_to_fix.join(new_df['Salary_range'])\n",
    "\n",
    "df_error[\"Id\"] = df_all[\"Id\"].loc[df_error[\"indexOfdf\"]].values\n",
    "df_error[\"ColumnName\"] = \"Salary\"\n",
    "df_error[\"Original\"] = df_all[\"Salary\"].loc[df_error[\"indexOfdf\"]].values\n",
    "df_error[\"Modified\"] = df_to_fix['Salary_range'].loc[df_error[\"indexOfdf\"]].values\n",
    "df_error[\"ErrorType\"] = \"p/h or per hour string\"\n",
    "df_error[\"Fixxing\"] = \"multiple salary to avg_workinf_time\"\n",
    "\n",
    "write_error_list_to_csv(df_error)"
   ]
  },
  {
   "cell_type": "code",
   "execution_count": 62,
   "id": "da6fc317",
   "metadata": {},
   "outputs": [
    {
     "data": {
      "text/html": [
       "<div>\n",
       "<style scoped>\n",
       "    .dataframe tbody tr th:only-of-type {\n",
       "        vertical-align: middle;\n",
       "    }\n",
       "\n",
       "    .dataframe tbody tr th {\n",
       "        vertical-align: top;\n",
       "    }\n",
       "\n",
       "    .dataframe thead th {\n",
       "        text-align: right;\n",
       "    }\n",
       "</style>\n",
       "<table border=\"1\" class=\"dataframe\">\n",
       "  <thead>\n",
       "    <tr style=\"text-align: right;\">\n",
       "      <th></th>\n",
       "      <th>Salary</th>\n",
       "      <th>Salary_range</th>\n",
       "    </tr>\n",
       "  </thead>\n",
       "  <tbody>\n",
       "    <tr>\n",
       "      <th>2673</th>\n",
       "      <td>12.87 p/h</td>\n",
       "      <td>20077.199999999997</td>\n",
       "    </tr>\n",
       "  </tbody>\n",
       "</table>\n",
       "</div>"
      ],
      "text/plain": [
       "         Salary        Salary_range\n",
       "2673  12.87 p/h  20077.199999999997"
      ]
     },
     "execution_count": 62,
     "metadata": {},
     "output_type": "execute_result"
    }
   ],
   "source": [
    "df_to_fix[[\"Salary\",\"Salary_range\"]].loc[[2673]]"
   ]
  },
  {
   "cell_type": "markdown",
   "id": "6bf4523d",
   "metadata": {},
   "source": [
    "#### Convert Salary_range to float 2 decimal"
   ]
  },
  {
   "cell_type": "code",
   "execution_count": 63,
   "id": "19c107c8",
   "metadata": {},
   "outputs": [],
   "source": [
    "df_to_fix[\"Salary_range\"] = pd.to_numeric(df_to_fix[\"Salary_range\"])"
   ]
  },
  {
   "cell_type": "code",
   "execution_count": 64,
   "id": "4ad11c67",
   "metadata": {},
   "outputs": [
    {
     "data": {
      "text/plain": [
       "OpenDate            datetime64[ns]\n",
       "CloseDate           datetime64[ns]\n",
       "Id                           int64\n",
       "Title                       object\n",
       "Location                    object\n",
       "ContractTime                object\n",
       "ContractType                object\n",
       "Company                     object\n",
       "Salary                      object\n",
       "SourceName                  object\n",
       "Category                    object\n",
       "TotalDate                    int64\n",
       "avg_working_time           float64\n",
       "Salary_range               float64\n",
       "dtype: object"
      ]
     },
     "execution_count": 64,
     "metadata": {},
     "output_type": "execute_result"
    }
   ],
   "source": [
    "df_to_fix.dtypes"
   ]
  },
  {
   "cell_type": "code",
   "execution_count": 65,
   "id": "13ba1eb7",
   "metadata": {},
   "outputs": [],
   "source": [
    "df_to_fix['Salary_range'] = df_to_fix['Salary_range'].apply(lambda x: \"{:.2f}\".format(x))"
   ]
  },
  {
   "cell_type": "code",
   "execution_count": 66,
   "id": "230fa647",
   "metadata": {},
   "outputs": [
    {
     "data": {
      "text/plain": [
       "OpenDate            datetime64[ns]\n",
       "CloseDate           datetime64[ns]\n",
       "Id                           int64\n",
       "Title                       object\n",
       "Location                    object\n",
       "ContractTime                object\n",
       "ContractType                object\n",
       "Company                     object\n",
       "Salary                      object\n",
       "SourceName                  object\n",
       "Category                    object\n",
       "TotalDate                    int64\n",
       "avg_working_time           float64\n",
       "Salary_range                object\n",
       "dtype: object"
      ]
     },
     "execution_count": 66,
     "metadata": {},
     "output_type": "execute_result"
    }
   ],
   "source": [
    "df_to_fix.dtypes"
   ]
  },
  {
   "cell_type": "code",
   "execution_count": 67,
   "id": "e9499b90",
   "metadata": {},
   "outputs": [
    {
     "data": {
      "text/plain": [
       "OpenDate            0\n",
       "CloseDate           0\n",
       "Id                  0\n",
       "Title               0\n",
       "Location            0\n",
       "ContractTime        0\n",
       "ContractType        0\n",
       "Company             0\n",
       "Salary              0\n",
       "SourceName          0\n",
       "Category            0\n",
       "TotalDate           0\n",
       "avg_working_time    0\n",
       "Salary_range        0\n",
       "dtype: int64"
      ]
     },
     "execution_count": 67,
     "metadata": {},
     "output_type": "execute_result"
    }
   ],
   "source": [
    "df_to_fix.isnull().sum()"
   ]
  },
  {
   "cell_type": "code",
   "execution_count": 68,
   "id": "32d742ed",
   "metadata": {},
   "outputs": [
    {
     "data": {
      "text/html": [
       "<div>\n",
       "<style scoped>\n",
       "    .dataframe tbody tr th:only-of-type {\n",
       "        vertical-align: middle;\n",
       "    }\n",
       "\n",
       "    .dataframe tbody tr th {\n",
       "        vertical-align: top;\n",
       "    }\n",
       "\n",
       "    .dataframe thead th {\n",
       "        text-align: right;\n",
       "    }\n",
       "</style>\n",
       "<table border=\"1\" class=\"dataframe\">\n",
       "  <thead>\n",
       "    <tr style=\"text-align: right;\">\n",
       "      <th></th>\n",
       "      <th>OpenDate</th>\n",
       "      <th>CloseDate</th>\n",
       "      <th>Id</th>\n",
       "      <th>Title</th>\n",
       "      <th>Location</th>\n",
       "      <th>ContractTime</th>\n",
       "      <th>ContractType</th>\n",
       "      <th>Company</th>\n",
       "      <th>Salary</th>\n",
       "      <th>SourceName</th>\n",
       "      <th>Category</th>\n",
       "      <th>TotalDate</th>\n",
       "      <th>avg_working_time</th>\n",
       "      <th>Salary_range</th>\n",
       "    </tr>\n",
       "  </thead>\n",
       "  <tbody>\n",
       "  </tbody>\n",
       "</table>\n",
       "</div>"
      ],
      "text/plain": [
       "Empty DataFrame\n",
       "Columns: [OpenDate, CloseDate, Id, Title, Location, ContractTime, ContractType, Company, Salary, SourceName, Category, TotalDate, avg_working_time, Salary_range]\n",
       "Index: []"
      ]
     },
     "execution_count": 68,
     "metadata": {},
     "output_type": "execute_result"
    }
   ],
   "source": [
    "null_data = df_to_fix[df_to_fix.isnull().any(axis=1)]\n",
    "null_data"
   ]
  },
  {
   "cell_type": "code",
   "execution_count": 69,
   "id": "839144ad",
   "metadata": {},
   "outputs": [],
   "source": [
    "# Dealing with duplicated values by using upper case method\n",
    "# df_to_fix[\"Location\"] = df_to_fix[\"Location\"].str.upper()"
   ]
  },
  {
   "cell_type": "code",
   "execution_count": 70,
   "id": "0c465c43",
   "metadata": {},
   "outputs": [],
   "source": [
    "# Dealing with duplicated values by using upper case method\n",
    "df_to_fix[\"Company\"] = df_to_fix[\"Company\"].str.upper()"
   ]
  },
  {
   "cell_type": "code",
   "execution_count": 71,
   "id": "b625064b",
   "metadata": {},
   "outputs": [],
   "source": [
    "df_to_fix = df_to_fix.drop([\"Salary\",\"avg_working_time\",\"TotalDate\"], axis = 1)"
   ]
  },
  {
   "cell_type": "code",
   "execution_count": 72,
   "id": "3f87e689",
   "metadata": {},
   "outputs": [],
   "source": [
    "df_to_fix.rename(columns = {'Salary_range':'Salary'}, inplace = True)"
   ]
  },
  {
   "cell_type": "code",
   "execution_count": 73,
   "id": "881da301",
   "metadata": {},
   "outputs": [
    {
     "data": {
      "text/plain": [
       "array(['London', 'South East London', 'Central London',\n",
       "       'North West London', 'Surrey', 'Cheshire', 'Berkshire',\n",
       "       'South West London', 'UK', 'Lincoln', 'West Yorkshire',\n",
       "       'Gloucester', 'Bournemouth', 'Slough', 'Abingdon',\n",
       "       'Greater Manchester', 'Skipton', 'Poole', 'Scotland', 'East Sheen',\n",
       "       'Sheffield', 'Yeovil', 'Edinburgh Technopole', 'Hampshire',\n",
       "       'Barnsley', 'Staffordshire', 'Oxford', 'High Wycombe', 'Leeds',\n",
       "       'Bracknell', 'Nottinghamshire', 'Blackpool', 'Swindon', 'Kent',\n",
       "       'Christchurch', 'Lincolnshire', 'Marton-In-Cleveland',\n",
       "       'Merseyside', 'Liverpool', 'Banbury', 'Reigate', 'Brighton',\n",
       "       'Chorley', 'Wales', 'Stoke-On-Trent', 'Lancashire',\n",
       "       'Burton-On-Trent', 'Reading', 'Fareham', 'Newbury', 'Cannock',\n",
       "       'Leicester', 'Guildford', 'West Sussex', 'Wiltshire', 'Livingston',\n",
       "       'Walton-On-Thames', 'Stafford', 'Nottingham', 'Winchester',\n",
       "       'Tunbridge Wells', 'Milton Keynes', 'Basingstoke',\n",
       "       'Leicestershire', 'Devon', 'Newcastle Upon Tyne', 'North Lambeth',\n",
       "       'West Malling', 'Sunderland', 'South Yorkshire', 'North Yorkshire',\n",
       "       'Worksop', 'Henley-On-Thames', 'East Sussex', 'York', 'Farnham',\n",
       "       'West Midlands', 'Crewe', 'Warwickshire', 'Lewes', 'Chester',\n",
       "       'Worcester', 'Maidstone', 'Exeter', 'Lancaster', 'Gloucestershire',\n",
       "       'Kidderminster', 'Thirsk', 'Bradford', 'Scarborough', 'Horsham',\n",
       "       'Shepton Mallet', 'Sutton Green', 'North East England',\n",
       "       'Portsmouth', 'Somerset', 'Chesham', 'East Midlands', 'Canterbury',\n",
       "       'Cheltenham', 'Macclesfield', 'Weybridge', 'Bolton Le Sands',\n",
       "       'Warrington', 'Dartford', 'Witney', 'Chesterfield', 'Dorchester',\n",
       "       'Stratford-Upon-Avon', 'Northamptonshire', 'Melksham',\n",
       "       'North Ayrshire', 'Dorset', 'Aberdeen', 'Lichfield', 'Kidlington',\n",
       "       'Mansfield', 'Wincanton', 'Kettering', 'Tadworth', 'Haslemere',\n",
       "       'Carlisle', 'Bromsgrove', 'Widnes', 'Stroud', 'Derby',\n",
       "       'Leamington Spa', 'Runcorn', 'Wakefield', 'Huddersfield',\n",
       "       'Aldershot', 'Northampton', 'Crawley', 'Chertsey',\n",
       "       'Buckinghamshire', 'Yorkshire and Humberside', 'Doncaster',\n",
       "       'Harrogate', 'Waterlooville', 'Cornwall', 'Warwick',\n",
       "       'Knaresborough', 'Camberley', 'Rochester', 'Cobham', 'Woking',\n",
       "       'Torquay', 'Haywards Heath', 'Wilmslow', 'Salisbury', 'Epsom',\n",
       "       'Castleford', 'Halifax', 'Trowbridge', 'Thatcham', 'Eastleigh',\n",
       "       'Littlehampton', 'Oxfordshire', 'Folkestone', 'Preston',\n",
       "       'Cirencester', 'Andover', 'Worthing', 'Derbyshire', 'Weymouth',\n",
       "       'Gainsborough', 'Thames Ditton', 'Newark', 'Chippenham',\n",
       "       'Sevenoaks', 'Loughborough', 'Ferndown', 'Redhill', 'Godalming',\n",
       "       'Keighley', 'Cumbria', 'Eastern England', 'Taunton',\n",
       "       'Northumberland', 'Egham', 'Washington', 'Worcestershire',\n",
       "       'Barnstaple', 'Didcot', 'Corby', 'Alfreton', 'Tonbridge',\n",
       "       'Leyland', 'Burgess Hill', 'Gateshead', 'Marlow', 'Avon',\n",
       "       'Richmond', 'Dorking', 'Farnborough', 'Redditch', 'Lutterworth',\n",
       "       'Rugby', 'Leatherhead', 'St. Helens', 'East Grinstead',\n",
       "       'Dunfermline', 'Hastings', 'Glenrothes', 'Tamworth', 'Morpeth',\n",
       "       'Blackburn', 'Hook', 'Southport', 'Chichester', 'Newport Pagnell',\n",
       "       'Bangor', 'Whyteleafe', 'Hove', 'Sutton-In-Ashfield', 'Hereford',\n",
       "       'Rotherham', 'Daventry', 'Hinckley', 'Aylesbury', 'Northallerton',\n",
       "       'Newton Abbot', 'Wellingborough', 'Gillingham', 'Eastbourne',\n",
       "       'Havant', 'Gerrards Cross', 'Knutsford', 'North Shields', 'Fleet',\n",
       "       'Northwich', 'Gravesend', 'Wetherby', 'East Riding',\n",
       "       'Melton Mowbray', 'Margate', 'Normanton', 'Wokingham', 'Burnley',\n",
       "       'Petersfield', 'Herefordshire', 'Chatham', 'Warminster', 'Kendal',\n",
       "       'Buckingham', 'london', 'Uckfield', 'Bognor Regis', 'Ashford',\n",
       "       'Chipping Campden', 'Beaconsfield', 'Truro', 'Bicester', 'Shipley',\n",
       "       'Chipping Norton', 'Boldon Colliery', 'Linlithgow', 'Dover',\n",
       "       'Fife', 'Nuneaton', 'Hungerford', 'Livepool', 'Market Harborough',\n",
       "       'Morecambe', 'Tewkesbury', 'Dewsbury', 'South Shields', 'ABERDEEN',\n",
       "       'Grantham', 'Stamford', 'Frome', 'Selby', 'Byfleet', 'Leads',\n",
       "       'Blaenau Gwent', 'Bourne End', 'Shropshire', 'Bexhill-On-Sea',\n",
       "       'Sittingbourne', 'Gosport', 'Rushden', 'Swanley', 'Evesham',\n",
       "       'Alton', 'Birkenhead', 'Bridgwater', 'Thame', 'Sidcup',\n",
       "       'Droitwich', 'Bagshot', 'Shrewsbury', 'Isle Of Wight',\n",
       "       'Accrington', 'Barrow-In-Furness', 'Alcester', 'Boston',\n",
       "       'South Lanarkshire', 'Amersham', 'Bexley', 'Edinburgh', 'Coventry',\n",
       "       'West London', 'Romford', 'Maidenhead', 'Bristol', 'The City',\n",
       "       'Essex', 'Welwyn Garden City', 'Birmingham', 'Canary Wharf',\n",
       "       'Manchester', 'North West England', 'Bolton', 'Hull', 'Docklands',\n",
       "       'Stevenage', 'Southampton', 'Hatfield', 'Bath', 'Peterborough',\n",
       "       'Cardiff', 'Bedfordshire', 'Telford', 'West End', 'Stockport',\n",
       "       'Cambridge', 'Hemel Hempstead', 'Glasgow', 'Watford', 'Luton',\n",
       "       'Norwich', 'Camden', 'South East England', 'South West England',\n",
       "       'Southend-On-Sea', 'North London', 'Llandaff North', 'Prescot',\n",
       "       'Wirral', 'Hertfordshire', 'Solihull', 'Sutton Coldfield',\n",
       "       'Croydon', 'Cambridgeshire', 'Belfast', 'Bury St. Edmunds',\n",
       "       'Potters Bar', 'Newport', 'Plymouth', 'Ipswich', 'Wimbledon',\n",
       "       'City', 'Windsor', 'Norfolk', 'Rickmansworth', 'Dundee',\n",
       "       'Letchworth Garden City', 'Swansea', 'Salford', 'Chelmsford',\n",
       "       'Middlesbrough', 'Borehamwood', 'St. Albans', 'Bromley', 'Bedford',\n",
       "       'BRISTOL', 'Wolverhampton', 'Barking', 'Hampshira', 'Oldbury',\n",
       "       'Kingston Upon Thames', 'Witham', 'Lambeth', 'Brentwood',\n",
       "       'Enfield', 'Twickenham', 'Greenwich', 'Staines', 'Altrincham',\n",
       "       'Colchester', 'Northern Ireland', 'Walsall', 'East London',\n",
       "       'Ealing', 'Wrexham', 'Rochdale', 'Hounslow', 'Basildon',\n",
       "       'Midlothian', 'LANCASHIRE', 'Harrow', 'Harlow', 'Cwmbran',\n",
       "       'Uxbridge', 'Scunthorpe', 'Jersey', 'Dudley', 'Covent Garden',\n",
       "       'Suffolk', 'Dumfries', 'Perth', 'Bridgend', 'Darlington',\n",
       "       'Arundel', 'Cheadle', 'Oldham', 'March', 'Workington', 'Hackney',\n",
       "       'Wigan', 'Lowestoft', 'Braintree', 'Stirling', 'Stockton-On-Tees',\n",
       "       'Aberdeenshire', 'Thetford', 'Bury', 'Southwark', 'Ely',\n",
       "       'Inverness', 'Brent Cross', 'Ilford', 'Lewisham', 'Clacton-On-Sea',\n",
       "       'Devizes', 'Huntingdon', 'Barnet', 'Redcar', 'Oxfords',\n",
       "       'South Croydon', 'Weston-Super-Mare', 'Caerphilly',\n",
       "       'Brierley Hill', 'Grimsby', 'Sudbury', 'Kensington', 'Clifton',\n",
       "       'Halesowen', 'Great Yarmouth', 'Durham', 'West Bromwich',\n",
       "       'Dunstable', 'West Lothian', 'Antrim', 'St. Ives', 'Kenilworth',\n",
       "       'Matlock', 'St. Neots', 'Cembridge', 'Leighton Buzzard',\n",
       "       'Hertford', 'HAMpshire', 'Pontefract', 'Towcester', \"King's Lynn\",\n",
       "       'Wisbech', 'Gaydon', 'Stourbridge', 'birmingham', 'Hitchin',\n",
       "       'Swadlincote', 'North Finchley', 'Thorpe St. Andrew',\n",
       "       'Manchester Science Park', 'Newcastle-under-Lyme', 'Sale',\n",
       "       'Southampton International Airport', 'Addlestone', 'Warringtn',\n",
       "       'Gatwick', 'South Brent', 'Camden Town', 'DONCASTER', 'Axbridge',\n",
       "       'Manchaster', 'Croydan', 'Sea', 'Trent', 'Horsforth', 'West Town',\n",
       "       'Woodthorpe', 'Calcot', 'Little Chesterford', 'Sompting',\n",
       "       'Handbridge', 'Two Mile Ash', 'Coscote', 'Craigiehall',\n",
       "       'Glasgow East Investment Park', 'Ash Green', 'Cliddesden',\n",
       "       'Broadfield', 'Cressington', 'Highlands', 'SURREY', 'Londn'],\n",
       "      dtype=object)"
      ]
     },
     "execution_count": 73,
     "metadata": {},
     "output_type": "execute_result"
    }
   ],
   "source": [
    "df_to_fix[\"Location\"].unique()"
   ]
  },
  {
   "cell_type": "code",
   "execution_count": 74,
   "id": "be1dce53",
   "metadata": {},
   "outputs": [],
   "source": [
    "df_to_fix[\"Location_Fix\"] = df_to_fix[\"Location\"]"
   ]
  },
  {
   "cell_type": "code",
   "execution_count": 75,
   "id": "42d036b2",
   "metadata": {},
   "outputs": [],
   "source": [
    "df_gb = pd.read_csv(\"gb.csv\")"
   ]
  },
  {
   "cell_type": "code",
   "execution_count": 76,
   "id": "e65ce879",
   "metadata": {},
   "outputs": [],
   "source": [
    "# df_gb = df_gb[\"city\"]"
   ]
  },
  {
   "cell_type": "code",
   "execution_count": 77,
   "id": "edea85ad",
   "metadata": {},
   "outputs": [
    {
     "data": {
      "text/plain": [
       "Index(['city', 'lat', 'lng', 'country', 'iso2', 'admin_name', 'capital',\n",
       "       'population', 'population_proper'],\n",
       "      dtype='object')"
      ]
     },
     "execution_count": 77,
     "metadata": {},
     "output_type": "execute_result"
    }
   ],
   "source": [
    "df_gb.columns"
   ]
  },
  {
   "cell_type": "code",
   "execution_count": 78,
   "id": "cac86cc0",
   "metadata": {},
   "outputs": [],
   "source": [
    "correct_city_names = []\n",
    "for rows in df_gb[\"city\"]:\n",
    "    correct_city_names.append(rows)"
   ]
  },
  {
   "cell_type": "code",
   "execution_count": null,
   "id": "508b278b",
   "metadata": {},
   "outputs": [],
   "source": [
    " def fix_misspelled_city(word,wordlist):\n",
    "    best_similar = 0.0\n",
    "    top_similar_letter = word\n",
    "    for letter in wordlist:\n",
    "        similar = SequenceMatcher(None,word,letter).ratio()\n",
    "        if similar > best_similar:\n",
    "            best_similar = similar\n",
    "            top_similar_letter = letter\n",
    "        print(top_similar_letter)\n",
    "    return top_similar_letter\n",
    "\n",
    "df_to_fix[\"Location_Fix\"].apply(lambda x: fix_misspelled_city(x,correct_city_names))"
   ]
  },
  {
   "cell_type": "code",
   "execution_count": null,
   "id": "816bf60f",
   "metadata": {},
   "outputs": [],
   "source": [
    "df_error[\"indexOfdf\"] = df_to_fix[\"Location_Fix\"].loc[df_to_fix[\"Location_Fix\"] != loc[df_to_fix[\"Location\"]]].index\n",
    "\n",
    "df_error[\"Id\"] = df_all[\"Id\"].loc[df_error[\"indexOfdf\"]].values\n",
    "df_error[\"ColumnName\"] = \"Location\"\n",
    "df_error[\"Original\"] = df_all[\"Location\"].loc[df_error[\"indexOfdf\"]].values\n",
    "df_error[\"Modified\"] = df_to_fix['Location_Fix'].loc[df_error[\"indexOfdf\"]].values\n",
    "df_error[\"ErrorType\"] = \"misspelled\"\n",
    "df_error[\"Fixxing\"] = \"fix misspelled word from \", df_all[\"Location\"].loc[df_error[\"indexOfdf\"]].values, \"to\", df_to_fix['Location_Fix'].loc[df_error[\"indexOfdf\"]].values\n",
    "\n",
    "write_error_list_to_csv(df_error)"
   ]
  }
 ],
 "metadata": {
  "kernelspec": {
   "display_name": "Python 3 (ipykernel)",
   "language": "python",
   "name": "python3"
  },
  "language_info": {
   "codemirror_mode": {
    "name": "ipython",
    "version": 3
   },
   "file_extension": ".py",
   "mimetype": "text/x-python",
   "name": "python",
   "nbconvert_exporter": "python",
   "pygments_lexer": "ipython3",
   "version": "3.9.13"
  }
 },
 "nbformat": 4,
 "nbformat_minor": 5
}
